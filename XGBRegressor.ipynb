{
 "cells": [
  {
   "cell_type": "markdown",
   "metadata": {},
   "source": [
    "## 读取数据"
   ]
  },
  {
   "cell_type": "code",
   "execution_count": 1,
   "metadata": {},
   "outputs": [],
   "source": [
    "# 首先 import 必要的模块\n",
    "import pandas as pd #数据分析\n",
    "import numpy as np #科学计算\n",
    "from pandas import Series,DataFrame\n",
    "import seaborn as sns\n",
    "import matplotlib.pyplot as plt\n",
    "import xgboost as xgb\n",
    "from sklearn.model_selection import GridSearchCV\n",
    "#打开文件\n",
    "# path to where the data lies\n",
    "dpath = './input/'\n",
    "train = pd.read_csv(dpath +'train_data_org.csv',index_col='用户编码')\n",
    "y_train=train.pop('信用分')\n",
    "X_train=train.drop(['data_type'], axis=1)"
   ]
  },
  {
   "cell_type": "code",
   "execution_count": 2,
   "metadata": {},
   "outputs": [],
   "source": [
    "from sklearn.metrics import mean_absolute_error\n",
    "from sklearn.metrics import make_scorer\n",
    "def score(y_pred, y_true):\n",
    "    return 1/(mean_absolute_error(y_pred, y_true)+1)\n",
    "My_Score = make_scorer(score, greater_is_better=True)"
   ]
  },
  {
   "cell_type": "markdown",
   "metadata": {},
   "source": [
    "## XGBRegressor"
   ]
  },
  {
   "cell_type": "markdown",
   "metadata": {},
   "source": [
    "### 1.最佳迭代次数：n_estimators"
   ]
  },
  {
   "cell_type": "code",
   "execution_count": 3,
   "metadata": {},
   "outputs": [
    {
     "name": "stdout",
     "output_type": "stream",
     "text": [
      "Fitting 5 folds for each of 1 candidates, totalling 5 fits\n",
      "[CV] n_estimators=4000 ...............................................\n"
     ]
    },
    {
     "name": "stderr",
     "output_type": "stream",
     "text": [
      "D:\\Anaconda3\\lib\\site-packages\\xgboost\\core.py:587: FutureWarning: Series.base is deprecated and will be removed in a future version\n",
      "  if getattr(data, 'base', None) is not None and \\\n"
     ]
    },
    {
     "name": "stdout",
     "output_type": "stream",
     "text": [
      "[CV] ..... n_estimators=4000, score=0.06305915049136063, total= 6.3min\n",
      "[CV] n_estimators=4000 ...............................................\n"
     ]
    },
    {
     "name": "stderr",
     "output_type": "stream",
     "text": [
      "[Parallel(n_jobs=1)]: Done   1 out of   1 | elapsed:  6.5min remaining:    0.0s\n",
      "D:\\Anaconda3\\lib\\site-packages\\xgboost\\core.py:587: FutureWarning: Series.base is deprecated and will be removed in a future version\n",
      "  if getattr(data, 'base', None) is not None and \\\n"
     ]
    },
    {
     "name": "stdout",
     "output_type": "stream",
     "text": [
      "[CV] ..... n_estimators=4000, score=0.06353346429132468, total= 6.3min\n",
      "[CV] n_estimators=4000 ...............................................\n"
     ]
    },
    {
     "name": "stderr",
     "output_type": "stream",
     "text": [
      "[Parallel(n_jobs=1)]: Done   2 out of   2 | elapsed: 13.1min remaining:    0.0s\n",
      "D:\\Anaconda3\\lib\\site-packages\\xgboost\\core.py:587: FutureWarning: Series.base is deprecated and will be removed in a future version\n",
      "  if getattr(data, 'base', None) is not None and \\\n"
     ]
    },
    {
     "name": "stdout",
     "output_type": "stream",
     "text": [
      "[CV] ..... n_estimators=4000, score=0.06461889732075378, total= 6.3min\n",
      "[CV] n_estimators=4000 ...............................................\n"
     ]
    },
    {
     "name": "stderr",
     "output_type": "stream",
     "text": [
      "D:\\Anaconda3\\lib\\site-packages\\xgboost\\core.py:587: FutureWarning: Series.base is deprecated and will be removed in a future version\n",
      "  if getattr(data, 'base', None) is not None and \\\n"
     ]
    },
    {
     "name": "stdout",
     "output_type": "stream",
     "text": [
      "[CV] ..... n_estimators=4000, score=0.06363300101654923, total= 6.3min\n",
      "[CV] n_estimators=4000 ...............................................\n"
     ]
    },
    {
     "name": "stderr",
     "output_type": "stream",
     "text": [
      "D:\\Anaconda3\\lib\\site-packages\\xgboost\\core.py:587: FutureWarning: Series.base is deprecated and will be removed in a future version\n",
      "  if getattr(data, 'base', None) is not None and \\\n"
     ]
    },
    {
     "name": "stdout",
     "output_type": "stream",
     "text": [
      "[CV] ..... n_estimators=4000, score=0.06355275670966569, total= 6.3min\n"
     ]
    },
    {
     "name": "stderr",
     "output_type": "stream",
     "text": [
      "[Parallel(n_jobs=1)]: Done   5 out of   5 | elapsed: 32.6min finished\n",
      "D:\\Anaconda3\\lib\\site-packages\\xgboost\\core.py:587: FutureWarning: Series.base is deprecated and will be removed in a future version\n",
      "  if getattr(data, 'base', None) is not None and \\\n",
      "D:\\Anaconda3\\lib\\site-packages\\xgboost\\core.py:588: FutureWarning: Series.base is deprecated and will be removed in a future version\n",
      "  data.base is not None and isinstance(data, np.ndarray) \\\n"
     ]
    },
    {
     "name": "stdout",
     "output_type": "stream",
     "text": [
      "每轮迭代运行结果:[0.06367945]\n",
      "参数的最佳取值：{'n_estimators': 4000}\n",
      "最佳模型得分:0.0636794539659308\n"
     ]
    }
   ],
   "source": [
    "import xgboost as xgb\n",
    "from sklearn.model_selection import GridSearchCV\n",
    "cv_params = {'n_estimators': [4000]}\n",
    "other_params = {'learning_rate': 0.01, 'n_estimators': 500, 'max_depth': 5, 'min_child_weight': 1, 'seed': 0,'objective':'reg:gamma',\n",
    "                    'subsample': 0.8, 'colsample_bytree': 0.8, 'gamma': 0, 'reg_alpha': 0, 'reg_lambda': 1}\n",
    "model = xgb.XGBRegressor(**other_params)\n",
    "Grid = GridSearchCV(estimator=model, param_grid=cv_params, scoring=My_Score, cv=5, verbose=3)\n",
    "Grid.fit(X_train, y_train)\n",
    "evalute_result = Grid.cv_results_[ 'mean_test_score' ]\n",
    "print('每轮迭代运行结果:{0}'.format(evalute_result))\n",
    "print('参数的最佳取值：{0}'.format(Grid.best_params_))\n",
    "print('最佳模型得分:{0}'.format(Grid.best_score_))"
   ]
  },
  {
   "cell_type": "code",
   "execution_count": 4,
   "metadata": {},
   "outputs": [
    {
     "name": "stdout",
     "output_type": "stream",
     "text": [
      "Fitting 5 folds for each of 1 candidates, totalling 5 fits\n"
     ]
    },
    {
     "name": "stderr",
     "output_type": "stream",
     "text": [
      "[Parallel(n_jobs=4)]: Using backend LokyBackend with 4 concurrent workers.\n",
      "[Parallel(n_jobs=4)]: Done   2 out of   5 | elapsed: 12.5min remaining: 18.7min\n",
      "[Parallel(n_jobs=4)]: Done   5 out of   5 | elapsed: 17.5min finished\n"
     ]
    },
    {
     "name": "stdout",
     "output_type": "stream",
     "text": [
      "每轮迭代运行结果:[0.06361431]\n",
      "参数的最佳取值：{'n_estimators': 3000}\n",
      "最佳模型得分:0.06361431260361612\n"
     ]
    }
   ],
   "source": [
    "import xgboost as xgb\n",
    "from sklearn.model_selection import GridSearchCV\n",
    "cv_params = {'n_estimators': [3000]}\n",
    "other_params = {'learning_rate': 0.01, 'n_estimators': 500, 'max_depth': 5, 'min_child_weight': 1, 'seed': 0,'objective':'reg:gamma',\n",
    "                    'subsample': 0.8, 'colsample_bytree': 0.8, 'gamma': 0, 'reg_alpha': 0, 'reg_lambda': 1}\n",
    "model = xgb.XGBRegressor(**other_params)\n",
    "Grid = GridSearchCV(estimator=model, param_grid=cv_params, scoring=My_Score, cv=5, verbose=3, n_jobs=4)\n",
    "Grid.fit(X_train, y_train)\n",
    "evalute_result = Grid.cv_results_[ 'mean_test_score' ]\n",
    "print('每轮迭代运行结果:{0}'.format(evalute_result))\n",
    "print('参数的最佳取值：{0}'.format(Grid.best_params_))\n",
    "print('最佳模型得分:{0}'.format(Grid.best_score_))"
   ]
  },
  {
   "cell_type": "markdown",
   "metadata": {},
   "source": [
    "### 2.调试的参数:min_child_weight以及max_depth"
   ]
  },
  {
   "cell_type": "markdown",
   "metadata": {},
   "source": [
    "##### 经筛选n_estimators最佳为315"
   ]
  },
  {
   "cell_type": "code",
   "execution_count": 5,
   "metadata": {},
   "outputs": [
    {
     "name": "stdout",
     "output_type": "stream",
     "text": [
      "Fitting 5 folds for each of 1 candidates, totalling 5 fits\n",
      "[CV] max_depth=7, min_child_weight=1 .................................\n"
     ]
    },
    {
     "name": "stderr",
     "output_type": "stream",
     "text": [
      "D:\\Anaconda3\\lib\\site-packages\\xgboost\\core.py:587: FutureWarning: Series.base is deprecated and will be removed in a future version\n",
      "  if getattr(data, 'base', None) is not None and \\\n"
     ]
    },
    {
     "name": "stdout",
     "output_type": "stream",
     "text": [
      "[CV]  max_depth=7, min_child_weight=1, score=0.0630580589870324, total= 9.9min\n",
      "[CV] max_depth=7, min_child_weight=1 .................................\n"
     ]
    },
    {
     "name": "stderr",
     "output_type": "stream",
     "text": [
      "[Parallel(n_jobs=1)]: Done   1 out of   1 | elapsed: 10.4min remaining:    0.0s\n",
      "D:\\Anaconda3\\lib\\site-packages\\xgboost\\core.py:587: FutureWarning: Series.base is deprecated and will be removed in a future version\n",
      "  if getattr(data, 'base', None) is not None and \\\n"
     ]
    },
    {
     "name": "stdout",
     "output_type": "stream",
     "text": [
      "[CV]  max_depth=7, min_child_weight=1, score=0.06340908113767002, total= 9.0min\n",
      "[CV] max_depth=7, min_child_weight=1 .................................\n"
     ]
    },
    {
     "name": "stderr",
     "output_type": "stream",
     "text": [
      "[Parallel(n_jobs=1)]: Done   2 out of   2 | elapsed: 20.0min remaining:    0.0s\n",
      "D:\\Anaconda3\\lib\\site-packages\\xgboost\\core.py:587: FutureWarning: Series.base is deprecated and will be removed in a future version\n",
      "  if getattr(data, 'base', None) is not None and \\\n"
     ]
    },
    {
     "name": "stdout",
     "output_type": "stream",
     "text": [
      "[CV]  max_depth=7, min_child_weight=1, score=0.06458567521448932, total= 9.0min\n",
      "[CV] max_depth=7, min_child_weight=1 .................................\n"
     ]
    },
    {
     "name": "stderr",
     "output_type": "stream",
     "text": [
      "D:\\Anaconda3\\lib\\site-packages\\xgboost\\core.py:587: FutureWarning: Series.base is deprecated and will be removed in a future version\n",
      "  if getattr(data, 'base', None) is not None and \\\n"
     ]
    },
    {
     "name": "stdout",
     "output_type": "stream",
     "text": [
      "[CV]  max_depth=7, min_child_weight=1, score=0.06354710907469475, total= 9.0min\n",
      "[CV] max_depth=7, min_child_weight=1 .................................\n"
     ]
    },
    {
     "name": "stderr",
     "output_type": "stream",
     "text": [
      "D:\\Anaconda3\\lib\\site-packages\\xgboost\\core.py:587: FutureWarning: Series.base is deprecated and will be removed in a future version\n",
      "  if getattr(data, 'base', None) is not None and \\\n"
     ]
    },
    {
     "name": "stdout",
     "output_type": "stream",
     "text": [
      "[CV]  max_depth=7, min_child_weight=1, score=0.06336110064345174, total= 9.0min\n"
     ]
    },
    {
     "name": "stderr",
     "output_type": "stream",
     "text": [
      "[Parallel(n_jobs=1)]: Done   5 out of   5 | elapsed: 48.6min finished\n",
      "D:\\Anaconda3\\lib\\site-packages\\xgboost\\core.py:587: FutureWarning: Series.base is deprecated and will be removed in a future version\n",
      "  if getattr(data, 'base', None) is not None and \\\n",
      "D:\\Anaconda3\\lib\\site-packages\\xgboost\\core.py:588: FutureWarning: Series.base is deprecated and will be removed in a future version\n",
      "  data.base is not None and isinstance(data, np.ndarray) \\\n"
     ]
    },
    {
     "name": "stdout",
     "output_type": "stream",
     "text": [
      "每轮迭代运行结果:[0.06359221]\n",
      "参数的最佳取值：{'max_depth': 7, 'min_child_weight': 1}\n",
      "最佳模型得分:0.06359220501146765\n"
     ]
    }
   ],
   "source": [
    "cv_params = {'max_depth': [7], 'min_child_weight': [1]}\n",
    "other_params = {'learning_rate': 0.01, 'n_estimators': 4000, 'max_depth': 5, 'min_child_weight': 1, 'seed': 0,'objective':'reg:gamma',\n",
    "                    'subsample': 0.8, 'colsample_bytree': 0.8, 'gamma': 0, 'reg_alpha': 0, 'reg_lambda': 1}\n",
    "model = xgb.XGBRegressor(**other_params)\n",
    "Grid = GridSearchCV(estimator=model, param_grid=cv_params, scoring=My_Score, cv=5, verbose=3)\n",
    "Grid.fit(X_train, y_train)\n",
    "evalute_result = Grid.cv_results_[ 'mean_test_score' ]\n",
    "print('每轮迭代运行结果:{0}'.format(evalute_result))\n",
    "print('参数的最佳取值：{0}'.format(Grid.best_params_))\n",
    "print('最佳模型得分:{0}'.format(Grid.best_score_))"
   ]
  },
  {
   "cell_type": "code",
   "execution_count": 4,
   "metadata": {},
   "outputs": [
    {
     "name": "stdout",
     "output_type": "stream",
     "text": [
      "Fitting 5 folds for each of 6 candidates, totalling 30 fits\n",
      "[CV] max_depth=4, min_child_weight=0.9 ...............................\n"
     ]
    },
    {
     "name": "stderr",
     "output_type": "stream",
     "text": [
      "D:\\Anaconda3\\lib\\site-packages\\xgboost\\core.py:587: FutureWarning: Series.base is deprecated and will be removed in a future version\n",
      "  if getattr(data, 'base', None) is not None and \\\n"
     ]
    },
    {
     "name": "stdout",
     "output_type": "stream",
     "text": [
      "[CV]  max_depth=4, min_child_weight=0.9, score=0.06297467416496062, total= 5.4min\n",
      "[CV] max_depth=4, min_child_weight=0.9 ...............................\n"
     ]
    },
    {
     "name": "stderr",
     "output_type": "stream",
     "text": [
      "[Parallel(n_jobs=1)]: Done   1 out of   1 | elapsed:  5.5min remaining:    0.0s\n",
      "D:\\Anaconda3\\lib\\site-packages\\xgboost\\core.py:587: FutureWarning: Series.base is deprecated and will be removed in a future version\n",
      "  if getattr(data, 'base', None) is not None and \\\n"
     ]
    },
    {
     "name": "stdout",
     "output_type": "stream",
     "text": [
      "[CV]  max_depth=4, min_child_weight=0.9, score=0.06350054988156603, total= 5.5min\n",
      "[CV] max_depth=4, min_child_weight=0.9 ...............................\n"
     ]
    },
    {
     "name": "stderr",
     "output_type": "stream",
     "text": [
      "[Parallel(n_jobs=1)]: Done   2 out of   2 | elapsed: 11.1min remaining:    0.0s\n",
      "D:\\Anaconda3\\lib\\site-packages\\xgboost\\core.py:587: FutureWarning: Series.base is deprecated and will be removed in a future version\n",
      "  if getattr(data, 'base', None) is not None and \\\n"
     ]
    },
    {
     "name": "stdout",
     "output_type": "stream",
     "text": [
      "[CV]  max_depth=4, min_child_weight=0.9, score=0.0644719435419883, total= 5.5min\n",
      "[CV] max_depth=4, min_child_weight=0.9 ...............................\n"
     ]
    },
    {
     "name": "stderr",
     "output_type": "stream",
     "text": [
      "D:\\Anaconda3\\lib\\site-packages\\xgboost\\core.py:587: FutureWarning: Series.base is deprecated and will be removed in a future version\n",
      "  if getattr(data, 'base', None) is not None and \\\n"
     ]
    },
    {
     "name": "stdout",
     "output_type": "stream",
     "text": [
      "[CV]  max_depth=4, min_child_weight=0.9, score=0.06355743909933187, total= 5.6min\n",
      "[CV] max_depth=4, min_child_weight=0.9 ...............................\n"
     ]
    },
    {
     "name": "stderr",
     "output_type": "stream",
     "text": [
      "D:\\Anaconda3\\lib\\site-packages\\xgboost\\core.py:587: FutureWarning: Series.base is deprecated and will be removed in a future version\n",
      "  if getattr(data, 'base', None) is not None and \\\n"
     ]
    },
    {
     "name": "stdout",
     "output_type": "stream",
     "text": [
      "[CV]  max_depth=4, min_child_weight=0.9, score=0.06340976032715578, total= 5.8min\n",
      "[CV] max_depth=4, min_child_weight=1 .................................\n"
     ]
    },
    {
     "name": "stderr",
     "output_type": "stream",
     "text": [
      "D:\\Anaconda3\\lib\\site-packages\\xgboost\\core.py:587: FutureWarning: Series.base is deprecated and will be removed in a future version\n",
      "  if getattr(data, 'base', None) is not None and \\\n"
     ]
    },
    {
     "name": "stdout",
     "output_type": "stream",
     "text": [
      "[CV]  max_depth=4, min_child_weight=1, score=0.06295858474836312, total= 6.7min\n",
      "[CV] max_depth=4, min_child_weight=1 .................................\n"
     ]
    },
    {
     "name": "stderr",
     "output_type": "stream",
     "text": [
      "D:\\Anaconda3\\lib\\site-packages\\xgboost\\core.py:587: FutureWarning: Series.base is deprecated and will be removed in a future version\n",
      "  if getattr(data, 'base', None) is not None and \\\n"
     ]
    },
    {
     "name": "stdout",
     "output_type": "stream",
     "text": [
      "[CV]  max_depth=4, min_child_weight=1, score=0.06347726150327007, total= 6.1min\n",
      "[CV] max_depth=4, min_child_weight=1 .................................\n"
     ]
    },
    {
     "name": "stderr",
     "output_type": "stream",
     "text": [
      "D:\\Anaconda3\\lib\\site-packages\\xgboost\\core.py:587: FutureWarning: Series.base is deprecated and will be removed in a future version\n",
      "  if getattr(data, 'base', None) is not None and \\\n"
     ]
    },
    {
     "name": "stdout",
     "output_type": "stream",
     "text": [
      "[CV]  max_depth=4, min_child_weight=1, score=0.06447592893088079, total= 5.7min\n",
      "[CV] max_depth=4, min_child_weight=1 .................................\n"
     ]
    },
    {
     "name": "stderr",
     "output_type": "stream",
     "text": [
      "D:\\Anaconda3\\lib\\site-packages\\xgboost\\core.py:587: FutureWarning: Series.base is deprecated and will be removed in a future version\n",
      "  if getattr(data, 'base', None) is not None and \\\n"
     ]
    },
    {
     "name": "stdout",
     "output_type": "stream",
     "text": [
      "[CV]  max_depth=4, min_child_weight=1, score=0.06358129477145812, total= 6.1min\n",
      "[CV] max_depth=4, min_child_weight=1 .................................\n"
     ]
    },
    {
     "name": "stderr",
     "output_type": "stream",
     "text": [
      "D:\\Anaconda3\\lib\\site-packages\\xgboost\\core.py:587: FutureWarning: Series.base is deprecated and will be removed in a future version\n",
      "  if getattr(data, 'base', None) is not None and \\\n"
     ]
    },
    {
     "name": "stdout",
     "output_type": "stream",
     "text": [
      "[CV]  max_depth=4, min_child_weight=1, score=0.06340522909367799, total= 5.9min\n",
      "[CV] max_depth=5, min_child_weight=0.9 ...............................\n"
     ]
    },
    {
     "name": "stderr",
     "output_type": "stream",
     "text": [
      "D:\\Anaconda3\\lib\\site-packages\\xgboost\\core.py:587: FutureWarning: Series.base is deprecated and will be removed in a future version\n",
      "  if getattr(data, 'base', None) is not None and \\\n"
     ]
    },
    {
     "name": "stdout",
     "output_type": "stream",
     "text": [
      "[CV]  max_depth=5, min_child_weight=0.9, score=0.06308075483769549, total= 6.9min\n",
      "[CV] max_depth=5, min_child_weight=0.9 ...............................\n"
     ]
    },
    {
     "name": "stderr",
     "output_type": "stream",
     "text": [
      "D:\\Anaconda3\\lib\\site-packages\\xgboost\\core.py:587: FutureWarning: Series.base is deprecated and will be removed in a future version\n",
      "  if getattr(data, 'base', None) is not None and \\\n"
     ]
    },
    {
     "name": "stdout",
     "output_type": "stream",
     "text": [
      "[CV]  max_depth=5, min_child_weight=0.9, score=0.06355046221416945, total= 6.6min\n",
      "[CV] max_depth=5, min_child_weight=0.9 ...............................\n"
     ]
    },
    {
     "name": "stderr",
     "output_type": "stream",
     "text": [
      "D:\\Anaconda3\\lib\\site-packages\\xgboost\\core.py:587: FutureWarning: Series.base is deprecated and will be removed in a future version\n",
      "  if getattr(data, 'base', None) is not None and \\\n"
     ]
    },
    {
     "name": "stdout",
     "output_type": "stream",
     "text": [
      "[CV]  max_depth=5, min_child_weight=0.9, score=0.06461472851220368, total= 6.6min\n",
      "[CV] max_depth=5, min_child_weight=0.9 ...............................\n"
     ]
    },
    {
     "name": "stderr",
     "output_type": "stream",
     "text": [
      "D:\\Anaconda3\\lib\\site-packages\\xgboost\\core.py:587: FutureWarning: Series.base is deprecated and will be removed in a future version\n",
      "  if getattr(data, 'base', None) is not None and \\\n"
     ]
    },
    {
     "name": "stdout",
     "output_type": "stream",
     "text": [
      "[CV]  max_depth=5, min_child_weight=0.9, score=0.06362890659782039, total= 6.6min\n",
      "[CV] max_depth=5, min_child_weight=0.9 ...............................\n"
     ]
    },
    {
     "name": "stderr",
     "output_type": "stream",
     "text": [
      "D:\\Anaconda3\\lib\\site-packages\\xgboost\\core.py:587: FutureWarning: Series.base is deprecated and will be removed in a future version\n",
      "  if getattr(data, 'base', None) is not None and \\\n"
     ]
    },
    {
     "name": "stdout",
     "output_type": "stream",
     "text": [
      "[CV]  max_depth=5, min_child_weight=0.9, score=0.06352581936283445, total= 6.8min\n",
      "[CV] max_depth=5, min_child_weight=1 .................................\n"
     ]
    },
    {
     "name": "stderr",
     "output_type": "stream",
     "text": [
      "D:\\Anaconda3\\lib\\site-packages\\xgboost\\core.py:587: FutureWarning: Series.base is deprecated and will be removed in a future version\n",
      "  if getattr(data, 'base', None) is not None and \\\n"
     ]
    },
    {
     "name": "stdout",
     "output_type": "stream",
     "text": [
      "[CV]  max_depth=5, min_child_weight=1, score=0.06305915049136063, total= 6.7min\n",
      "[CV] max_depth=5, min_child_weight=1 .................................\n"
     ]
    },
    {
     "name": "stderr",
     "output_type": "stream",
     "text": [
      "D:\\Anaconda3\\lib\\site-packages\\xgboost\\core.py:587: FutureWarning: Series.base is deprecated and will be removed in a future version\n",
      "  if getattr(data, 'base', None) is not None and \\\n"
     ]
    },
    {
     "name": "stdout",
     "output_type": "stream",
     "text": [
      "[CV]  max_depth=5, min_child_weight=1, score=0.06353346429132468, total= 6.7min\n",
      "[CV] max_depth=5, min_child_weight=1 .................................\n"
     ]
    },
    {
     "name": "stderr",
     "output_type": "stream",
     "text": [
      "D:\\Anaconda3\\lib\\site-packages\\xgboost\\core.py:587: FutureWarning: Series.base is deprecated and will be removed in a future version\n",
      "  if getattr(data, 'base', None) is not None and \\\n"
     ]
    },
    {
     "name": "stdout",
     "output_type": "stream",
     "text": [
      "[CV]  max_depth=5, min_child_weight=1, score=0.06461889732075378, total= 6.8min\n",
      "[CV] max_depth=5, min_child_weight=1 .................................\n"
     ]
    },
    {
     "name": "stderr",
     "output_type": "stream",
     "text": [
      "D:\\Anaconda3\\lib\\site-packages\\xgboost\\core.py:587: FutureWarning: Series.base is deprecated and will be removed in a future version\n",
      "  if getattr(data, 'base', None) is not None and \\\n"
     ]
    },
    {
     "name": "stdout",
     "output_type": "stream",
     "text": [
      "[CV]  max_depth=5, min_child_weight=1, score=0.06363300101654923, total= 6.8min\n",
      "[CV] max_depth=5, min_child_weight=1 .................................\n"
     ]
    },
    {
     "name": "stderr",
     "output_type": "stream",
     "text": [
      "D:\\Anaconda3\\lib\\site-packages\\xgboost\\core.py:587: FutureWarning: Series.base is deprecated and will be removed in a future version\n",
      "  if getattr(data, 'base', None) is not None and \\\n"
     ]
    },
    {
     "name": "stdout",
     "output_type": "stream",
     "text": [
      "[CV]  max_depth=5, min_child_weight=1, score=0.06355275670966569, total= 6.8min\n",
      "[CV] max_depth=6, min_child_weight=0.9 ...............................\n"
     ]
    },
    {
     "name": "stderr",
     "output_type": "stream",
     "text": [
      "D:\\Anaconda3\\lib\\site-packages\\xgboost\\core.py:587: FutureWarning: Series.base is deprecated and will be removed in a future version\n",
      "  if getattr(data, 'base', None) is not None and \\\n"
     ]
    },
    {
     "name": "stdout",
     "output_type": "stream",
     "text": [
      "[CV]  max_depth=6, min_child_weight=0.9, score=0.06306950685154793, total= 7.9min\n",
      "[CV] max_depth=6, min_child_weight=0.9 ...............................\n"
     ]
    },
    {
     "name": "stderr",
     "output_type": "stream",
     "text": [
      "D:\\Anaconda3\\lib\\site-packages\\xgboost\\core.py:587: FutureWarning: Series.base is deprecated and will be removed in a future version\n",
      "  if getattr(data, 'base', None) is not None and \\\n"
     ]
    },
    {
     "name": "stdout",
     "output_type": "stream",
     "text": [
      "[CV]  max_depth=6, min_child_weight=0.9, score=0.06348692675588395, total= 7.9min\n",
      "[CV] max_depth=6, min_child_weight=0.9 ...............................\n"
     ]
    },
    {
     "name": "stderr",
     "output_type": "stream",
     "text": [
      "D:\\Anaconda3\\lib\\site-packages\\xgboost\\core.py:587: FutureWarning: Series.base is deprecated and will be removed in a future version\n",
      "  if getattr(data, 'base', None) is not None and \\\n"
     ]
    },
    {
     "name": "stdout",
     "output_type": "stream",
     "text": [
      "[CV]  max_depth=6, min_child_weight=0.9, score=0.064631821397422, total= 7.9min\n",
      "[CV] max_depth=6, min_child_weight=0.9 ...............................\n"
     ]
    },
    {
     "name": "stderr",
     "output_type": "stream",
     "text": [
      "D:\\Anaconda3\\lib\\site-packages\\xgboost\\core.py:587: FutureWarning: Series.base is deprecated and will be removed in a future version\n",
      "  if getattr(data, 'base', None) is not None and \\\n"
     ]
    },
    {
     "name": "stdout",
     "output_type": "stream",
     "text": [
      "[CV]  max_depth=6, min_child_weight=0.9, score=0.06366560237971608, total= 7.9min\n",
      "[CV] max_depth=6, min_child_weight=0.9 ...............................\n"
     ]
    },
    {
     "name": "stderr",
     "output_type": "stream",
     "text": [
      "D:\\Anaconda3\\lib\\site-packages\\xgboost\\core.py:587: FutureWarning: Series.base is deprecated and will be removed in a future version\n",
      "  if getattr(data, 'base', None) is not None and \\\n"
     ]
    },
    {
     "name": "stdout",
     "output_type": "stream",
     "text": [
      "[CV]  max_depth=6, min_child_weight=0.9, score=0.06358520233000771, total= 7.9min\n",
      "[CV] max_depth=6, min_child_weight=1 .................................\n"
     ]
    },
    {
     "name": "stderr",
     "output_type": "stream",
     "text": [
      "D:\\Anaconda3\\lib\\site-packages\\xgboost\\core.py:587: FutureWarning: Series.base is deprecated and will be removed in a future version\n",
      "  if getattr(data, 'base', None) is not None and \\\n"
     ]
    },
    {
     "name": "stdout",
     "output_type": "stream",
     "text": [
      "[CV]  max_depth=6, min_child_weight=1, score=0.06305852672490209, total= 7.9min\n",
      "[CV] max_depth=6, min_child_weight=1 .................................\n"
     ]
    },
    {
     "name": "stderr",
     "output_type": "stream",
     "text": [
      "D:\\Anaconda3\\lib\\site-packages\\xgboost\\core.py:587: FutureWarning: Series.base is deprecated and will be removed in a future version\n",
      "  if getattr(data, 'base', None) is not None and \\\n"
     ]
    },
    {
     "name": "stdout",
     "output_type": "stream",
     "text": [
      "[CV]  max_depth=6, min_child_weight=1, score=0.06350159468650965, total= 7.9min\n",
      "[CV] max_depth=6, min_child_weight=1 .................................\n"
     ]
    },
    {
     "name": "stderr",
     "output_type": "stream",
     "text": [
      "D:\\Anaconda3\\lib\\site-packages\\xgboost\\core.py:587: FutureWarning: Series.base is deprecated and will be removed in a future version\n",
      "  if getattr(data, 'base', None) is not None and \\\n"
     ]
    },
    {
     "name": "stdout",
     "output_type": "stream",
     "text": [
      "[CV]  max_depth=6, min_child_weight=1, score=0.06461688122344036, total= 7.9min\n",
      "[CV] max_depth=6, min_child_weight=1 .................................\n"
     ]
    },
    {
     "name": "stderr",
     "output_type": "stream",
     "text": [
      "D:\\Anaconda3\\lib\\site-packages\\xgboost\\core.py:587: FutureWarning: Series.base is deprecated and will be removed in a future version\n",
      "  if getattr(data, 'base', None) is not None and \\\n"
     ]
    },
    {
     "name": "stdout",
     "output_type": "stream",
     "text": [
      "[CV]  max_depth=6, min_child_weight=1, score=0.06372565814168475, total= 7.9min\n",
      "[CV] max_depth=6, min_child_weight=1 .................................\n"
     ]
    },
    {
     "name": "stderr",
     "output_type": "stream",
     "text": [
      "D:\\Anaconda3\\lib\\site-packages\\xgboost\\core.py:587: FutureWarning: Series.base is deprecated and will be removed in a future version\n",
      "  if getattr(data, 'base', None) is not None and \\\n"
     ]
    },
    {
     "name": "stdout",
     "output_type": "stream",
     "text": [
      "[CV]  max_depth=6, min_child_weight=1, score=0.06354561795244132, total= 8.0min\n"
     ]
    },
    {
     "name": "stderr",
     "output_type": "stream",
     "text": [
      "[Parallel(n_jobs=1)]: Done  30 out of  30 | elapsed: 212.2min finished\n",
      "D:\\Anaconda3\\lib\\site-packages\\xgboost\\core.py:587: FutureWarning: Series.base is deprecated and will be removed in a future version\n",
      "  if getattr(data, 'base', None) is not None and \\\n",
      "D:\\Anaconda3\\lib\\site-packages\\xgboost\\core.py:588: FutureWarning: Series.base is deprecated and will be removed in a future version\n",
      "  data.base is not None and isinstance(data, np.ndarray) \\\n"
     ]
    },
    {
     "name": "stdout",
     "output_type": "stream",
     "text": [
      "每轮迭代运行结果:[0.06358287 0.06357966 0.06368013 0.06367945 0.06368781 0.06368966]\n",
      "参数的最佳取值：{'max_depth': 6, 'min_child_weight': 1}\n",
      "最佳模型得分:0.06368965574579563\n"
     ]
    }
   ],
   "source": [
    "cv_params = {'max_depth': [4,5,6], 'min_child_weight': [0.9,1]}\n",
    "other_params = {'learning_rate': 0.01, 'n_estimators': 4000, 'max_depth': 5, 'min_child_weight': 1, 'seed': 0,'objective':'reg:gamma',\n",
    "                    'subsample': 0.8, 'colsample_bytree': 0.8, 'gamma': 0, 'reg_alpha': 0, 'reg_lambda': 1}\n",
    "model = xgb.XGBRegressor(**other_params)\n",
    "Grid = GridSearchCV(estimator=model, param_grid=cv_params, scoring=My_Score, cv=5, verbose=3)\n",
    "Grid.fit(X_train, y_train)\n",
    "evalute_result = Grid.cv_results_[ 'mean_test_score' ]\n",
    "print('每轮迭代运行结果:{0}'.format(evalute_result))\n",
    "print('参数的最佳取值：{0}'.format(Grid.best_params_))\n",
    "print('最佳模型得分:{0}'.format(Grid.best_score_))"
   ]
  },
  {
   "cell_type": "code",
   "execution_count": 14,
   "metadata": {},
   "outputs": [
    {
     "name": "stdout",
     "output_type": "stream",
     "text": [
      "Fitting 5 folds for each of 1 candidates, totalling 5 fits\n"
     ]
    },
    {
     "name": "stderr",
     "output_type": "stream",
     "text": [
      "[Parallel(n_jobs=4)]: Using backend LokyBackend with 4 concurrent workers.\n",
      "[Parallel(n_jobs=4)]: Done   2 out of   5 | elapsed:  1.5min remaining:  2.3min\n",
      "[Parallel(n_jobs=4)]: Done   5 out of   5 | elapsed:  2.2min finished\n"
     ]
    },
    {
     "name": "stdout",
     "output_type": "stream",
     "text": [
      "每轮迭代运行结果:[0.06330317]\n",
      "参数的最佳取值：{'max_depth': 5, 'min_child_weight': 1}\n",
      "最佳模型得分:0.0633031734448777\n"
     ]
    }
   ],
   "source": [
    "cv_params = {'max_depth': [5], 'min_child_weight': [1]}\n",
    "other_params = {'learning_rate': 0.1, 'n_estimators': 320, 'max_depth': 5, 'min_child_weight': 1, 'seed': 0,'objective':'reg:gamma',\n",
    "                    'subsample': 0.8, 'colsample_bytree': 0.8, 'gamma': 0, 'reg_alpha': 0, 'reg_lambda': 1}\n",
    "model = xgb.XGBRegressor(**other_params)\n",
    "Grid = GridSearchCV(estimator=model, param_grid=cv_params, scoring=My_Score, cv=5, verbose=3)\n",
    "Grid.fit(X_train, y_train)\n",
    "evalute_result = Grid.cv_results_[ 'mean_test_score' ]\n",
    "print('每轮迭代运行结果:{0}'.format(evalute_result))\n",
    "print('参数的最佳取值：{0}'.format(Grid.best_params_))\n",
    "print('最佳模型得分:{0}'.format(Grid.best_score_))"
   ]
  },
  {
   "cell_type": "markdown",
   "metadata": {},
   "source": [
    "### 3.调试参数：gamma"
   ]
  },
  {
   "cell_type": "markdown",
   "metadata": {},
   "source": [
    "##### n_estimator：315   max_depth：5   min_child_weight:1"
   ]
  },
  {
   "cell_type": "code",
   "execution_count": 15,
   "metadata": {},
   "outputs": [
    {
     "name": "stdout",
     "output_type": "stream",
     "text": [
      "Fitting 5 folds for each of 1 candidates, totalling 5 fits\n"
     ]
    },
    {
     "name": "stderr",
     "output_type": "stream",
     "text": [
      "[Parallel(n_jobs=4)]: Using backend LokyBackend with 4 concurrent workers.\n",
      "[Parallel(n_jobs=4)]: Done   2 out of   5 | elapsed:  1.6min remaining:  2.4min\n",
      "[Parallel(n_jobs=4)]: Done   5 out of   5 | elapsed:  2.4min finished\n"
     ]
    },
    {
     "name": "stdout",
     "output_type": "stream",
     "text": [
      "每轮迭代运行结果:[0.06330317]\n",
      "参数的最佳取值：{'gamma': 1e-09}\n",
      "最佳模型得分:0.0633031734448777\n"
     ]
    }
   ],
   "source": [
    "cv_params = {'gamma': [0.000000001]}\n",
    "other_params = {'learning_rate': 0.1, 'n_estimators': 320, 'max_depth': 5, 'min_child_weight': 1, 'seed': 0,'objective':'reg:gamma',\n",
    "                    'subsample': 0.8, 'colsample_bytree': 0.8, 'gamma': 0, 'reg_alpha': 0, 'reg_lambda': 1}\n",
    "model = xgb.XGBRegressor(**other_params)\n",
    "Grid = GridSearchCV(estimator=model, param_grid=cv_params, scoring=My_Score, cv=5, verbose=3, n_jobs=4)\n",
    "Grid.fit(X_train, y_train)\n",
    "evalute_result = Grid.cv_results_[ 'mean_test_score' ]\n",
    "print('每轮迭代运行结果:{0}'.format(evalute_result))\n",
    "print('参数的最佳取值：{0}'.format(Grid.best_params_))\n",
    "print('最佳模型得分:{0}'.format(Grid.best_score_))"
   ]
  },
  {
   "cell_type": "markdown",
   "metadata": {},
   "source": [
    "### 4.调试参数：subsample以及colsample_bytree"
   ]
  },
  {
   "cell_type": "markdown",
   "metadata": {},
   "source": [
    "##### n_estimator：315    max_depth：5     min_child_weight:1     gamma:0.000000001"
   ]
  },
  {
   "cell_type": "code",
   "execution_count": 16,
   "metadata": {},
   "outputs": [
    {
     "name": "stdout",
     "output_type": "stream",
     "text": [
      "Fitting 5 folds for each of 1 candidates, totalling 5 fits\n"
     ]
    },
    {
     "name": "stderr",
     "output_type": "stream",
     "text": [
      "[Parallel(n_jobs=4)]: Using backend LokyBackend with 4 concurrent workers.\n",
      "[Parallel(n_jobs=4)]: Done   2 out of   5 | elapsed:  1.3min remaining:  2.0min\n",
      "[Parallel(n_jobs=4)]: Done   5 out of   5 | elapsed:  2.2min finished\n"
     ]
    },
    {
     "name": "stdout",
     "output_type": "stream",
     "text": [
      "每轮迭代运行结果:[0.06338015]\n",
      "参数的最佳取值：{'colsample_bytree': 0.7, 'subsample': 0.93}\n",
      "最佳模型得分:0.06338014793595492\n"
     ]
    }
   ],
   "source": [
    "cv_params = { 'colsample_bytree': [0.7],'subsample': [0.93]}\n",
    "other_params = {'learning_rate': 0.1, 'n_estimators': 315, 'max_depth': 5, 'min_child_weight': 1, 'seed': 0,'objective':'reg:gamma',\n",
    "                    'subsample': 0.8, 'colsample_bytree': 0.8, 'gamma': 0.000000001, 'reg_alpha': 0, 'reg_lambda': 1}\n",
    "model = xgb.XGBRegressor(**other_params)\n",
    "Grid = GridSearchCV(estimator=model, param_grid=cv_params, scoring=My_Score, cv=5, verbose=3, n_jobs=4)\n",
    "Grid.fit(X_train, y_train)\n",
    "evalute_result = Grid.cv_results_[ 'mean_test_score' ]\n",
    "print('每轮迭代运行结果:{0}'.format(evalute_result))\n",
    "print('参数的最佳取值：{0}'.format(Grid.best_params_))\n",
    "print('最佳模型得分:{0}'.format(Grid.best_score_))"
   ]
  },
  {
   "cell_type": "markdown",
   "metadata": {},
   "source": [
    "### 5.调试参数：reg_alpha以及reg_lambda："
   ]
  },
  {
   "cell_type": "markdown",
   "metadata": {},
   "source": [
    "##### 'n_estimator'：315    'max_depth'：5     'min_child_weight':1     'gamma':0.000000001    'colsample_bytree': 0.7     'subsample': 0.93"
   ]
  },
  {
   "cell_type": "code",
   "execution_count": 3,
   "metadata": {},
   "outputs": [
    {
     "name": "stdout",
     "output_type": "stream",
     "text": [
      "Fitting 5 folds for each of 2 candidates, totalling 10 fits\n"
     ]
    },
    {
     "name": "stderr",
     "output_type": "stream",
     "text": [
      "[Parallel(n_jobs=4)]: Using backend LokyBackend with 4 concurrent workers.\n",
      "[Parallel(n_jobs=4)]: Done   7 out of  10 | elapsed:  3.7min remaining:  1.6min\n",
      "[Parallel(n_jobs=4)]: Done  10 out of  10 | elapsed:  6.3min finished\n"
     ]
    },
    {
     "name": "stdout",
     "output_type": "stream",
     "text": [
      "每轮迭代运行结果:[0.06338181 0.06332858]\n",
      "参数的最佳取值：{'reg_alpha': 1e-06, 'reg_lambda': 1}\n",
      "最佳模型得分:0.06338181086393473\n"
     ]
    }
   ],
   "source": [
    "cv_params = {'reg_alpha': [0.000001,0.0001 ], 'reg_lambda': [1]}\n",
    "other_params = {'learning_rate': 0.1, 'n_estimators': 320, 'max_depth': 5, 'min_child_weight': 1, 'seed': 0,'objective':'reg:gamma',\n",
    "                    'subsample': 0.93, 'colsample_bytree': 0.7, 'gamma':0.000000001, 'reg_alpha': 0, 'reg_lambda': 1}\n",
    "model = xgb.XGBRegressor(**other_params)\n",
    "Grid = GridSearchCV(estimator=model, param_grid=cv_params, scoring=My_Score, cv=5, verbose=3, n_jobs=4)\n",
    "Grid.fit(X_train, y_train)\n",
    "evalute_result = Grid.cv_results_[ 'mean_test_score' ]\n",
    "print('每轮迭代运行结果:{0}'.format(evalute_result))\n",
    "print('参数的最佳取值：{0}'.format(Grid.best_params_))\n",
    "print('最佳模型得分:{0}'.format(Grid.best_score_))"
   ]
  },
  {
   "cell_type": "markdown",
   "metadata": {},
   "source": [
    "### 6.调试参数：learning_rate"
   ]
  },
  {
   "cell_type": "markdown",
   "metadata": {},
   "source": [
    "##### 'n_estimator'：320    'max_depth'：5     'min_child_weight':1     'gamma':0.000000001    \n",
    "##### 'colsample_bytree': 0.7     'subsample': 0.93   'reg_alpha': 0.0001, 'reg_lambda': 1"
   ]
  },
  {
   "cell_type": "code",
   "execution_count": 6,
   "metadata": {},
   "outputs": [
    {
     "name": "stdout",
     "output_type": "stream",
     "text": [
      "Fitting 5 folds for each of 3 candidates, totalling 15 fits\n"
     ]
    },
    {
     "name": "stderr",
     "output_type": "stream",
     "text": [
      "[Parallel(n_jobs=4)]: Using backend LokyBackend with 4 concurrent workers.\n",
      "[Parallel(n_jobs=4)]: Done  15 out of  15 | elapsed: 10.5min finished\n"
     ]
    },
    {
     "name": "stdout",
     "output_type": "stream",
     "text": [
      "每轮迭代运行结果:[0.06334859 0.06338181 0.06328552]\n",
      "参数的最佳取值：{'learning_rate': 0.1}\n",
      "最佳模型得分:0.06338181086393473\n"
     ]
    }
   ],
   "source": [
    "cv_params = {'learning_rate': [ 0.07, 0.1, 0.11]}\n",
    "other_params = {'learning_rate': 0.1, 'n_estimators': 320, 'max_depth': 5, 'min_child_weight': 1, 'seed': 0,'objective':'reg:gamma',\n",
    "                    'subsample': 0.93, 'colsample_bytree': 0.7, 'gamma': 0.000000001, 'reg_alpha': 0.000001, 'reg_lambda': 1}\n",
    "model = xgb.XGBRegressor(**other_params)\n",
    "Grid = GridSearchCV(estimator=model, param_grid=cv_params, scoring=My_Score, cv=5, verbose=3, n_jobs=4)\n",
    "Grid.fit(X_train, y_train)\n",
    "evalute_result = Grid.cv_results_[ 'mean_test_score' ]\n",
    "print('每轮迭代运行结果:{0}'.format(evalute_result))\n",
    "print('参数的最佳取值：{0}'.format(Grid.best_params_))\n",
    "print('最佳模型得分:{0}'.format(Grid.best_score_))"
   ]
  },
  {
   "cell_type": "markdown",
   "metadata": {},
   "source": [
    "##### 'n_estimator'：315    'max_depth'：5     'min_child_weight':1     'gamma':0.000000001    \n",
    "##### 'colsample_bytree': 0.7     'subsample': 0.93   'reg_alpha': 0.0001, 'reg_lambda': 1  'learning_rate': 0.07"
   ]
  },
  {
   "cell_type": "markdown",
   "metadata": {},
   "source": [
    "## 测试集"
   ]
  },
  {
   "cell_type": "code",
   "execution_count": null,
   "metadata": {},
   "outputs": [],
   "source": [
    "import xgboost as xgb\n",
    "other_params = {'learning_rate': 0.07, 'n_estimators': 315, 'max_depth': 5, 'min_child_weight': 1, 'seed': 0,'objective':'reg:gamma',\n",
    "                    'subsample': 0.8, 'colsample_bytree': 0.8, 'gamma': 0, 'reg_alpha': 0.0001, 'reg_lambda': 1}\n",
    "model = xgb.XGBRegressor(**other_params)\n",
    "model.fit(X_train, y_train)"
   ]
  },
  {
   "cell_type": "code",
   "execution_count": 35,
   "metadata": {},
   "outputs": [],
   "source": [
    "#打开文件\n",
    "# path to where the data lies\n",
    "dpath = './input/'\n",
    "test = pd.read_csv(dpath +'test_data_org.csv',index_col='用户编码')\n",
    "X_test=test.drop(['data_type'], axis=1)\n",
    "X_test_index=X_test.index\n",
    "#y预测，四舍五入，取整\n",
    "y_pred=np.around(model.predict(X_test)).astype(int)\n",
    "#生成提交结果\n",
    "user_id=pd.DataFrame(X_test_index).rename(columns = {'用户编码':'id'})\n",
    "score = pd.DataFrame(y_pred,columns=['score'])\n",
    "out_df = pd.concat([user_id,score], axis = 1)\n",
    "out_df.to_csv(\"./output/ElasticNet.csv\", index=False)"
   ]
  }
 ],
 "metadata": {
  "kernelspec": {
   "display_name": "Python 3",
   "language": "python",
   "name": "python3"
  },
  "language_info": {
   "codemirror_mode": {
    "name": "ipython",
    "version": 3
   },
   "file_extension": ".py",
   "mimetype": "text/x-python",
   "name": "python",
   "nbconvert_exporter": "python",
   "pygments_lexer": "ipython3",
   "version": "3.7.0"
  }
 },
 "nbformat": 4,
 "nbformat_minor": 2
}
