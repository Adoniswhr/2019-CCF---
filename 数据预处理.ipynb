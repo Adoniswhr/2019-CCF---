{
 "cells": [
  {
   "cell_type": "markdown",
   "metadata": {},
   "source": [
    "# 消费者人群画像—信用智能评分"
   ]
  },
  {
   "cell_type": "markdown",
   "metadata": {},
   "source": [
    "### 读取数据"
   ]
  },
  {
   "cell_type": "code",
   "execution_count": 1,
   "metadata": {},
   "outputs": [],
   "source": [
    "# 首先 import 必要的模块\n",
    "import pandas as pd #数据分析\n",
    "import numpy as np #科学计算\n",
    "from pandas import Series,DataFrame\n",
    "import seaborn as sns\n",
    "import matplotlib.pyplot as plt"
   ]
  },
  {
   "cell_type": "code",
   "execution_count": 2,
   "metadata": {
    "scrolled": true
   },
   "outputs": [],
   "source": [
    "#打开文件\n",
    "# path to where the data lies\n",
    "dpath = './input/'\n",
    "train = pd.read_csv(dpath +'train_dataset.csv',index_col='用户编码')\n",
    "test = pd.read_csv(dpath + 'test_dataset.csv',index_col='用户编码')\n",
    "train['data_type'] = 0\n",
    "test['data_type'] = 1"
   ]
  },
  {
   "cell_type": "code",
   "execution_count": 3,
   "metadata": {},
   "outputs": [],
   "source": [
    "score=train['信用分']\n",
    "train=train.drop([\"信用分\"],axis=1)\n",
    "data=pd.concat((train,test),axis=0)"
   ]
  },
  {
   "cell_type": "code",
   "execution_count": 80,
   "metadata": {},
   "outputs": [
    {
     "name": "stdout",
     "output_type": "stream",
     "text": [
      "<class 'pandas.core.frame.DataFrame'>\n",
      "Index: 100000 entries, a4651f98c82948b186bdcdc8108381b4 to e9b5e148e5cc4993bd990cbf15a9c0e6\n",
      "Data columns (total 29 columns):\n",
      "用户实名制是否通过核实        100000 non-null int64\n",
      "用户年龄               100000 non-null int64\n",
      "是否大学生客户            100000 non-null int64\n",
      "是否黑名单客户            100000 non-null int64\n",
      "是否4G不健康客户          100000 non-null int64\n",
      "用户网龄（月）            100000 non-null int64\n",
      "用户最近一次缴费距今时长（月）    100000 non-null int64\n",
      "缴费用户最近一次缴费金额（元）    100000 non-null float64\n",
      "用户近6个月平均消费值（元）     100000 non-null float64\n",
      "用户账单当月总费用（元）       100000 non-null float64\n",
      "用户当月账户余额（元）        100000 non-null int64\n",
      "缴费用户当前是否欠费缴费       100000 non-null int64\n",
      "用户话费敏感度            100000 non-null int64\n",
      "当月通话交往圈人数          100000 non-null int64\n",
      "是否经常逛商场的人          100000 non-null int64\n",
      "近三个月月均商场出现次数       100000 non-null int64\n",
      "当月是否逛过福州仓山万达       100000 non-null int64\n",
      "当月是否到过福州山姆会员店      100000 non-null int64\n",
      "当月是否看电影            100000 non-null int64\n",
      "当月是否景点游览           100000 non-null int64\n",
      "当月是否体育场馆消费         100000 non-null int64\n",
      "当月网购类应用使用次数        100000 non-null int64\n",
      "当月物流快递类应用使用次数      100000 non-null int64\n",
      "当月金融理财类应用使用总次数     100000 non-null int64\n",
      "当月视频播放类应用使用次数      100000 non-null int64\n",
      "当月飞机类应用使用次数        100000 non-null int64\n",
      "当月火车类应用使用次数        100000 non-null int64\n",
      "当月旅游资讯类应用使用次数      100000 non-null int64\n",
      "data_type          100000 non-null int64\n",
      "dtypes: float64(3), int64(26)\n",
      "memory usage: 22.9+ MB\n"
     ]
    }
   ],
   "source": [
    "data.info()"
   ]
  },
  {
   "cell_type": "markdown",
   "metadata": {},
   "source": [
    "### 创造特征"
   ]
  },
  {
   "cell_type": "code",
   "execution_count": 4,
   "metadata": {},
   "outputs": [],
   "source": [
    "diff_feature_list = ['用户网龄（月）','用户最近一次缴费距今时长（月）','缴费用户最近一次缴费金额（元）',\n",
    "                     '用户近6个月平均消费值（元）','用户账单当月总费用（元）','用户当月账户余额（元）'\n",
    "                    ]\n",
    "\n",
    "data['diff_用户近6个月平均消费值（元）_缴费用户最近一次缴费金额（元）'] = data['用户近6个月平均消费值（元）'] - data['缴费用户最近一次缴费金额（元）']\n",
    "data['diff_用户近6个月平均消费值（元）_用户账单当月总费用（元）'] = data['用户近6个月平均消费值（元）']- data['用户账单当月总费用（元）']\n",
    "data['diff_用户近6个月平均消费值（元）_用户当月账户余额（元）'] = data['用户近6个月平均消费值（元）'] - data['用户当月账户余额（元）']\n",
    "data['diff_用户账单当月总费用（元）_用户当月账户余额（元）'] = data['用户账单当月总费用（元）'] - data['用户当月账户余额（元）']\n",
    "data['diff_用户账单当月总费用（元）_缴费用户最近一次缴费金额（元）'] = data['用户账单当月总费用（元）'] - data['缴费用户最近一次缴费金额（元）']\n",
    "    \n",
    "data['ratio_用户近6个月平均消费值（元）/缴费用户最近一次缴费金额（元）'] = data['用户近6个月平均消费值（元）'] /(data['缴费用户最近一次缴费金额（元）']+1)\n",
    "data['ratio_用户近6个月平均消费值（元）/用户账单当月总费用（元）'] = data['用户近6个月平均消费值（元）']/( data['用户账单当月总费用（元）']+1)\n",
    "data['ratio_用户近6个月平均消费值（元）/用户当月账户余额（元）'] = data['用户近6个月平均消费值（元）'] /( data['用户当月账户余额（元）']+1)\n",
    "data['ratio_用户账单当月总费用（元）/用户当月账户余额（元）'] = data['用户账单当月总费用（元）'] /(data['用户当月账户余额（元）']+1)\n",
    "data['ratio_用户账单当月总费用（元）/缴费用户最近一次缴费金额（元）'] = data['用户账单当月总费用（元）'] /( data['缴费用户最近一次缴费金额（元）']+1)"
   ]
  },
  {
   "cell_type": "markdown",
   "metadata": {},
   "source": [
    "### 可视化"
   ]
  },
  {
   "cell_type": "code",
   "execution_count": 5,
   "metadata": {},
   "outputs": [
    {
     "data": {
      "text/plain": [
       "array([[<matplotlib.axes._subplots.AxesSubplot object at 0x0000017AA88A35C0>]],\n",
       "      dtype=object)"
      ]
     },
     "execution_count": 5,
     "metadata": {},
     "output_type": "execute_result"
    },
    {
     "data": {
      "image/png": "[encoded data removed]",
      "text/plain": [
       "<Figure size 432x288 with 1 Axes>"
      ]
     },
     "metadata": {
      "needs_background": "light"
     },
     "output_type": "display_data"
    }
   ],
   "source": [
    "data.hist(column=\"用户网龄（月）\",bins=200)"
   ]
  },
  {
   "cell_type": "code",
   "execution_count": 6,
   "metadata": {},
   "outputs": [
    {
     "data": {
      "text/plain": [
       "array([[<matplotlib.axes._subplots.AxesSubplot object at 0x0000017AA8FE5EF0>]],\n",
       "      dtype=object)"
      ]
     },
     "execution_count": 6,
     "metadata": {},
     "output_type": "execute_result"
    },
    {
     "data": {
      "image/png": "[encoded data removed]",
      "text/plain": [
       "<Figure size 432x288 with 1 Axes>"
      ]
     },
     "metadata": {
      "needs_background": "light"
     },
     "output_type": "display_data"
    }
   ],
   "source": [
    "data.hist(column=\"缴费用户最近一次缴费金额（元）\",bins=200)"
   ]
  },
  {
   "cell_type": "code",
   "execution_count": 7,
   "metadata": {},
   "outputs": [
    {
     "data": {
      "text/plain": [
       "array([[<matplotlib.axes._subplots.AxesSubplot object at 0x0000017AA9C855F8>]],\n",
       "      dtype=object)"
      ]
     },
     "execution_count": 7,
     "metadata": {},
     "output_type": "execute_result"
    },
    {
     "data": {
      "image/png": "[encoded data removed]",
      "text/plain": [
       "<Figure size 432x288 with 1 Axes>"
      ]
     },
     "metadata": {
      "needs_background": "light"
     },
     "output_type": "display_data"
    }
   ],
   "source": [
    "data.hist(column=\"用户近6个月平均消费值（元）\",bins=200)"
   ]
  },
  {
   "cell_type": "code",
   "execution_count": 8,
   "metadata": {},
   "outputs": [
    {
     "data": {
      "text/plain": [
       "array([[<matplotlib.axes._subplots.AxesSubplot object at 0x0000017AA9F03E10>]],\n",
       "      dtype=object)"
      ]
     },
     "execution_count": 8,
     "metadata": {},
     "output_type": "execute_result"
    },
    {
     "data": {
      "image/png": "[encoded data removed]",
      "text/plain": [
       "<Figure size 432x288 with 1 Axes>"
      ]
     },
     "metadata": {
      "needs_background": "light"
     },
     "output_type": "display_data"
    }
   ],
   "source": [
    "data.hist(column=\"用户账单当月总费用（元）\",bins=200)"
   ]
  },
  {
   "cell_type": "code",
   "execution_count": 9,
   "metadata": {},
   "outputs": [
    {
     "data": {
      "text/plain": [
       "array([[<matplotlib.axes._subplots.AxesSubplot object at 0x0000017AA9F61E48>]],\n",
       "      dtype=object)"
      ]
     },
     "execution_count": 9,
     "metadata": {},
     "output_type": "execute_result"
    },
    {
     "data": {
      "image/png": "[encoded data removed]",
      "text/plain": [
       "<Figure size 432x288 with 1 Axes>"
      ]
     },
     "metadata": {
      "needs_background": "light"
     },
     "output_type": "display_data"
    }
   ],
   "source": [
    "data.hist(column=\"用户当月账户余额（元）\",bins=200)"
   ]
  },
  {
   "cell_type": "markdown",
   "metadata": {},
   "source": [
    "### 处理长尾分布"
   ]
  },
  {
   "cell_type": "code",
   "execution_count": 5,
   "metadata": {},
   "outputs": [
    {
     "data": {
      "text/plain": [
       "array([[<matplotlib.axes._subplots.AxesSubplot object at 0x000002391D752A90>]],\n",
       "      dtype=object)"
      ]
     },
     "execution_count": 5,
     "metadata": {},
     "output_type": "execute_result"
    },
    {
     "data": {
      "image/png": "[encoded data removed]",
      "text/plain": [
       "<Figure size 432x288 with 1 Axes>"
      ]
     },
     "metadata": {
      "needs_background": "light"
     },
     "output_type": "display_data"
    }
   ],
   "source": [
    "#对'缴费用户最近一次缴费金额（元）'进行log2处理\n",
    "data['缴费用户最近一次缴费金额（元）'] = np.log2(data['缴费用户最近一次缴费金额（元）']+1)\n",
    "data.rename(columns={'缴费用户最近一次缴费金额（元）':'缴费用户最近一次缴费金额（元）_log2'},inplace = True)\n",
    "data.hist(column=\"缴费用户最近一次缴费金额（元）_log2\",bins=200)"
   ]
  },
  {
   "cell_type": "code",
   "execution_count": 6,
   "metadata": {},
   "outputs": [
    {
     "data": {
      "text/plain": [
       "array([[<matplotlib.axes._subplots.AxesSubplot object at 0x000002391BED71D0>]],\n",
       "      dtype=object)"
      ]
     },
     "execution_count": 6,
     "metadata": {},
     "output_type": "execute_result"
    },
    {
     "data": {
      "image/png": "[encoded data removed]",
      "text/plain": [
       "<Figure size 432x288 with 1 Axes>"
      ]
     },
     "metadata": {
      "needs_background": "light"
     },
     "output_type": "display_data"
    }
   ],
   "source": [
    "#对'用户近6个月平均消费值（元）'进行log2处理\n",
    "data['用户近6个月平均消费值（元）'] = np.log2(data['用户近6个月平均消费值（元）']+1)\n",
    "data.rename(columns={'用户近6个月平均消费值（元）':'用户近6个月平均消费值（元）_log2'},inplace = True)\n",
    "data.hist(column=\"用户近6个月平均消费值（元）_log2\",bins=200)"
   ]
  },
  {
   "cell_type": "code",
   "execution_count": 7,
   "metadata": {},
   "outputs": [
    {
     "data": {
      "text/plain": [
       "array([[<matplotlib.axes._subplots.AxesSubplot object at 0x000002391EB255C0>]],\n",
       "      dtype=object)"
      ]
     },
     "execution_count": 7,
     "metadata": {},
     "output_type": "execute_result"
    },
    {
     "data": {
      "image/png": "[encoded data removed]",
      "text/plain": [
       "<Figure size 432x288 with 1 Axes>"
      ]
     },
     "metadata": {
      "needs_background": "light"
     },
     "output_type": "display_data"
    }
   ],
   "source": [
    "#对'用户账单当月总费用（元）'进行log2处理\n",
    "data['用户账单当月总费用（元）'] = np.log2(data['用户账单当月总费用（元）']+1)\n",
    "data.rename(columns={'用户账单当月总费用（元）':'用户账单当月总费用（元）_log2'},inplace = True)\n",
    "data.hist(column=\"用户账单当月总费用（元）_log2\",bins=200)"
   ]
  },
  {
   "cell_type": "code",
   "execution_count": 8,
   "metadata": {},
   "outputs": [
    {
     "data": {
      "text/plain": [
       "array([[<matplotlib.axes._subplots.AxesSubplot object at 0x000002391ED64EF0>]],\n",
       "      dtype=object)"
      ]
     },
     "execution_count": 8,
     "metadata": {},
     "output_type": "execute_result"
    },
    {
     "data": {
      "image/png": "[encoded data removed]",
      "text/plain": [
       "<Figure size 432x288 with 1 Axes>"
      ]
     },
     "metadata": {
      "needs_background": "light"
     },
     "output_type": "display_data"
    }
   ],
   "source": [
    "#对'用户当月账户余额（元）'进行loglp处理\n",
    "data['用户当月账户余额（元）'] = np.log1p(data['用户当月账户余额（元）'])\n",
    "data.rename(columns={'用户当月账户余额（元）':'用户当月账户余额（元）_log'},inplace = True)\n",
    "data.hist(column=\"用户当月账户余额（元）_log\",bins=200)"
   ]
  },
  {
   "cell_type": "markdown",
   "metadata": {},
   "source": [
    "### 处理分类数据"
   ]
  },
  {
   "cell_type": "code",
   "execution_count": 9,
   "metadata": {},
   "outputs": [],
   "source": [
    "data=pd.get_dummies(data,columns=['用户话费敏感度'],prefix='用户话费敏感度')"
   ]
  },
  {
   "cell_type": "markdown",
   "metadata": {},
   "source": [
    "### 数据标准化"
   ]
  },
  {
   "cell_type": "code",
   "execution_count": 10,
   "metadata": {},
   "outputs": [],
   "source": [
    "data_columns=data.columns\n",
    "data_index=data.index"
   ]
  },
  {
   "cell_type": "code",
   "execution_count": 11,
   "metadata": {},
   "outputs": [
    {
     "name": "stderr",
     "output_type": "stream",
     "text": [
      "D:\\Anaconda\\lib\\site-packages\\sklearn\\preprocessing\\data.py:323: DataConversionWarning: Data with input dtype uint8, int64, float64 were all converted to float64 by MinMaxScaler.\n",
      "  return self.partial_fit(X, y)\n"
     ]
    }
   ],
   "source": [
    "from sklearn.preprocessing import MinMaxScaler# 对数据缩放\n",
    "# 构造输入特征的标准化器\n",
    "MS = MinMaxScaler()\n",
    "data_Scaler = MS.fit_transform(data)"
   ]
  },
  {
   "cell_type": "code",
   "execution_count": 12,
   "metadata": {},
   "outputs": [],
   "source": [
    "data=pd.DataFrame(data_Scaler,columns=data_columns,index=data_index)"
   ]
  },
  {
   "cell_type": "markdown",
   "metadata": {},
   "source": [
    "### 分割数据集"
   ]
  },
  {
   "cell_type": "code",
   "execution_count": 13,
   "metadata": {},
   "outputs": [],
   "source": [
    "train_data = data[(data.data_type == 0)]\n",
    "test_data = data[(data.data_type == 1)]"
   ]
  },
  {
   "cell_type": "code",
   "execution_count": 14,
   "metadata": {},
   "outputs": [],
   "source": [
    "train_data=pd.concat([train_data,score],axis=1)"
   ]
  },
  {
   "cell_type": "code",
   "execution_count": 15,
   "metadata": {},
   "outputs": [],
   "source": [
    "train_data.to_csv(dpath +'train_data_org.csv',index=True)\n",
    "test_data.to_csv(dpath +'test_data_org.csv',index=True)"
   ]
  },
  {
   "cell_type": "code",
   "execution_count": null,
   "metadata": {},
   "outputs": [],
   "source": []
  }
 ],
 "metadata": {
  "kernelspec": {
   "display_name": "Python 3",
   "language": "python",
   "name": "python3"
  },
  "language_info": {
   "codemirror_mode": {
    "name": "ipython",
    "version": 3
   },
   "file_extension": ".py",
   "mimetype": "text/x-python",
   "name": "python",
   "nbconvert_exporter": "python",
   "pygments_lexer": "ipython3",
   "version": "3.6.8"
  }
 },
 "nbformat": 4,
 "nbformat_minor": 2
}
