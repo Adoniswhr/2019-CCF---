{
 "cells": [
  {
   "cell_type": "markdown",
   "metadata": {},
   "source": [
    "## 读取数据"
   ]
  },
  {
   "cell_type": "code",
   "execution_count": 1,
   "metadata": {},
   "outputs": [],
   "source": [
    "# 首先 import 必要的模块\n",
    "import pandas as pd #数据分析\n",
    "import numpy as np #科学计算\n",
    "from pandas import Series,DataFrame\n",
    "import seaborn as sns\n",
    "import matplotlib.pyplot as plt\n",
    "from sklearn.model_selection import GridSearchCV\n",
    "#打开文件\n",
    "# path to where the data lies\n",
    "dpath = './input/'\n",
    "train = pd.read_csv(dpath +'train_data_org.csv',index_col='用户编码')\n",
    "y_train=train.pop('信用分')\n",
    "X_train=train.drop(['data_type'], axis=1)"
   ]
  },
  {
   "cell_type": "code",
   "execution_count": 2,
   "metadata": {},
   "outputs": [],
   "source": [
    "from sklearn.metrics import mean_absolute_error\n",
    "from sklearn.metrics import make_scorer\n",
    "def score(y_pred, y_true):\n",
    "    return 1/(mean_absolute_error(y_pred, y_true)+1)\n",
    "My_Score = make_scorer(score, greater_is_better=True)"
   ]
  },
  {
   "cell_type": "markdown",
   "metadata": {},
   "source": [
    "## BaggingRegressor_DecisionTreeRegressor"
   ]
  },
  {
   "cell_type": "code",
   "execution_count": 3,
   "metadata": {},
   "outputs": [
    {
     "name": "stdout",
     "output_type": "stream",
     "text": [
      "Fitting 5 folds for each of 1 candidates, totalling 5 fits\n"
     ]
    },
    {
     "name": "stderr",
     "output_type": "stream",
     "text": [
      "[Parallel(n_jobs=4)]: Using backend LokyBackend with 4 concurrent workers.\n",
      "[Parallel(n_jobs=4)]: Done   2 out of   5 | elapsed:  9.1min remaining: 13.7min\n",
      "[Parallel(n_jobs=4)]: Done   5 out of   5 | elapsed: 17.3min finished\n"
     ]
    },
    {
     "name": "stdout",
     "output_type": "stream",
     "text": [
      "每轮迭代运行结果:[0.06120665]\n",
      "参数的最佳取值：{}\n",
      "最佳模型得分:0.06120665225394695\n"
     ]
    }
   ],
   "source": [
    "from sklearn.ensemble import BaggingRegressor\n",
    "from sklearn.tree import DecisionTreeRegressor\n",
    "cv_params = {}\n",
    "model=BaggingRegressor(base_estimator=DecisionTreeRegressor(random_state=0),n_estimators=200)\n",
    "Grid = GridSearchCV(estimator=model, param_grid=cv_params, scoring=My_Score, cv=5, verbose=3, n_jobs=4)\n",
    "Grid.fit(X_train, y_train)\n",
    "evalute_result = Grid.cv_results_[ 'mean_test_score' ]\n",
    "print('每轮迭代运行结果:{0}'.format(evalute_result))\n",
    "print('参数的最佳取值：{0}'.format(Grid.best_params_))\n",
    "print('最佳模型得分:{0}'.format(Grid.best_score_))"
   ]
  },
  {
   "cell_type": "markdown",
   "metadata": {},
   "source": [
    "## BaggingRegressor_ElasticNet"
   ]
  },
  {
   "cell_type": "code",
   "execution_count": 4,
   "metadata": {},
   "outputs": [
    {
     "name": "stdout",
     "output_type": "stream",
     "text": [
      "Fitting 5 folds for each of 1 candidates, totalling 5 fits\n"
     ]
    },
    {
     "name": "stderr",
     "output_type": "stream",
     "text": [
      "[Parallel(n_jobs=4)]: Using backend LokyBackend with 4 concurrent workers.\n",
      "[Parallel(n_jobs=4)]: Done   2 out of   5 | elapsed:   35.9s remaining:   53.9s\n",
      "[Parallel(n_jobs=4)]: Done   5 out of   5 | elapsed:   55.4s finished\n"
     ]
    },
    {
     "name": "stdout",
     "output_type": "stream",
     "text": [
      "每轮迭代运行结果:[0.03261801]\n",
      "参数的最佳取值：{}\n",
      "最佳模型得分:0.032618007153338006\n"
     ]
    }
   ],
   "source": [
    "from sklearn.ensemble import BaggingRegressor\n",
    "from sklearn.linear_model import ElasticNet\n",
    "cv_params = {}\n",
    "model=BaggingRegressor(base_estimator=ElasticNet(alpha=0.000001,l1_ratio=0.5),n_estimators=50)\n",
    "Grid = GridSearchCV(estimator=model, param_grid=cv_params, scoring=My_Score, cv=5, verbose=3, n_jobs=4)\n",
    "Grid.fit(X_train, y_train)\n",
    "evalute_result = Grid.cv_results_[ 'mean_test_score' ]\n",
    "print('每轮迭代运行结果:{0}'.format(evalute_result))\n",
    "print('参数的最佳取值：{0}'.format(Grid.best_params_))\n",
    "print('最佳模型得分:{0}'.format(Grid.best_score_))"
   ]
  },
  {
   "cell_type": "markdown",
   "metadata": {},
   "source": [
    "## 测试集"
   ]
  },
  {
   "cell_type": "code",
   "execution_count": null,
   "metadata": {},
   "outputs": [],
   "source": [
    "from sklearn.ensemble import BaggingRegressor\n",
    "from sklearn.tree import DecisionTreeRegressor\n",
    "model=BaggingRegressor(base_estimator=DecisionTreeRegressor(random_state=0),n_estimators=200)\n",
    "model.fit(X_train, y_train)"
   ]
  },
  {
   "cell_type": "code",
   "execution_count": 115,
   "metadata": {},
   "outputs": [],
   "source": [
    "#打开文件\n",
    "# path to where the data lies\n",
    "dpath = './input/'\n",
    "test = pd.read_csv(dpath +'test_data_org.csv',index_col='用户编码')\n",
    "X_test=test.drop(['data_type'], axis=1)\n",
    "X_test_index=X_test.index\n",
    "#y预测，四舍五入，取整\n",
    "y_pred=np.around(model.predict(X_test)).astype(int)\n",
    "#生成提交结果\n",
    "user_id=pd.DataFrame(X_test_index).rename(columns = {'用户编码':'id'})\n",
    "score = pd.DataFrame(y_pred,columns=['score'])\n",
    "out_df = pd.concat([user_id,score], axis = 1)\n",
    "out_df.to_csv(\"./output/ElasticNet.csv\", index=False)"
   ]
  },
  {
   "cell_type": "code",
   "execution_count": null,
   "metadata": {},
   "outputs": [],
   "source": []
  }
 ],
 "metadata": {
  "kernelspec": {
   "display_name": "Python 3",
   "language": "python",
   "name": "python3"
  },
  "language_info": {
   "codemirror_mode": {
    "name": "ipython",
    "version": 3
   },
   "file_extension": ".py",
   "mimetype": "text/x-python",
   "name": "python",
   "nbconvert_exporter": "python",
   "pygments_lexer": "ipython3",
   "version": "3.6.8"
  }
 },
 "nbformat": 4,
 "nbformat_minor": 2
}
