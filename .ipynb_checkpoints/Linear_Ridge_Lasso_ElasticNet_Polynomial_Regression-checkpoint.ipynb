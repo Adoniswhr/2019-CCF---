{
 "cells": [
  {
   "cell_type": "markdown",
   "metadata": {},
   "source": [
    "## 读取数据"
   ]
  },
  {
   "cell_type": "code",
   "execution_count": 1,
   "metadata": {},
   "outputs": [],
   "source": [
    "# 首先 import 必要的模块\n",
    "import pandas as pd #数据分析\n",
    "import numpy as np #科学计算\n",
    "from pandas import Series,DataFrame\n",
    "import seaborn as sns\n",
    "import matplotlib.pyplot as plt\n",
    "from sklearn.model_selection import GridSearchCV\n",
    "#打开文件\n",
    "# path to where the data lies\n",
    "dpath = './input/'\n",
    "train = pd.read_csv(dpath +'train_data_org.csv',index_col='用户编码')\n",
    "y_train=train.pop('信用分')\n",
    "X_train=train.drop(['data_type'], axis=1)"
   ]
  },
  {
   "cell_type": "code",
   "execution_count": 2,
   "metadata": {},
   "outputs": [],
   "source": [
    "from sklearn.metrics import mean_absolute_error\n",
    "from sklearn.metrics import make_scorer\n",
    "def score(y_pred, y_true):\n",
    "    return 1/(mean_absolute_error(y_pred, y_true)+1)\n",
    "My_Score = make_scorer(score, greater_is_better=True)"
   ]
  },
  {
   "cell_type": "code",
   "execution_count": null,
   "metadata": {},
   "outputs": [],
   "source": [
    "#进行特征扩展并PCA降维\n",
    "from sklearn.preprocessing import PolynomialFeatures\n",
    "from sklearn.decomposition import PCA\n",
    "quadratic = PolynomialFeatures(degree=2)\n",
    "X_quad = quadratic.fit_transform(X_train)\n",
    "pca = PCA(n_components=600)\n",
    "X_train = pca.fit(X_quad).transform(X_quad)"
   ]
  },
  {
   "cell_type": "code",
   "execution_count": 44,
   "metadata": {},
   "outputs": [],
   "source": [
    "y_train=y_train-350"
   ]
  },
  {
   "cell_type": "markdown",
   "metadata": {},
   "source": [
    "## 线性回归"
   ]
  },
  {
   "cell_type": "markdown",
   "metadata": {},
   "source": [
    "#### 1.LinearRegression"
   ]
  },
  {
   "cell_type": "code",
   "execution_count": 3,
   "metadata": {},
   "outputs": [
    {
     "name": "stdout",
     "output_type": "stream",
     "text": [
      "score of each fold is:  [0.05708018 0.05780564 0.05799021 0.05800189 0.05757381]\n",
      "cv score of is: 0.057690343992070806\n"
     ]
    }
   ],
   "source": [
    "#此模型不适合增维再PCA降维，因为很低很低\n",
    "# 交叉验证用于评估模型性能和进行参数调优（模型选择）\n",
    "#数据集比较大，采用3折交叉验证\n",
    "from sklearn.model_selection import cross_val_score\n",
    "from sklearn.linear_model import LinearRegression\n",
    "regressor = LinearRegression()\n",
    "scores = cross_val_score(regressor , X_train, y_train, cv=5, scoring=My_Score)\n",
    "print ('score of each fold is: ',scores)\n",
    "print ('cv score of is:', np.mean(scores) )"
   ]
  },
  {
   "cell_type": "code",
   "execution_count": 4,
   "metadata": {},
   "outputs": [
    {
     "name": "stdout",
     "output_type": "stream",
     "text": [
      "score of each fold is:  [0.05938945 0.06017807 0.06067718 0.06019331 0.05984346]\n",
      "cv score of is: 0.06005629300843942\n"
     ]
    }
   ],
   "source": [
    "#此模型不适合增维再PCA降维，因为很低很低\n",
    "# 交叉验证用于评估模型性能和进行参数调优（模型选择）\n",
    "#数据集比较大，采用3折交叉验证\n",
    "from sklearn.model_selection import cross_val_score\n",
    "from sklearn.linear_model import LinearRegression\n",
    "regressor = LinearRegression()\n",
    "scores = cross_val_score(regressor , X_train, y_train, cv=5, scoring=My_Score)\n",
    "print ('score of each fold is: ',scores)\n",
    "print ('cv score of is:', np.mean(scores) )"
   ]
  },
  {
   "cell_type": "markdown",
   "metadata": {},
   "source": [
    "#### 2.Ridge Regression"
   ]
  },
  {
   "cell_type": "code",
   "execution_count": 20,
   "metadata": {},
   "outputs": [
    {
     "name": "stdout",
     "output_type": "stream",
     "text": [
      "Fitting 5 folds for each of 1 candidates, totalling 5 fits\n"
     ]
    },
    {
     "name": "stderr",
     "output_type": "stream",
     "text": [
      "[Parallel(n_jobs=4)]: Using backend LokyBackend with 4 concurrent workers.\n",
      "[Parallel(n_jobs=4)]: Done   2 out of   5 | elapsed:    0.2s remaining:    0.4s\n",
      "[Parallel(n_jobs=4)]: Done   5 out of   5 | elapsed:    0.4s finished\n"
     ]
    },
    {
     "name": "stdout",
     "output_type": "stream",
     "text": [
      "每轮迭代运行结果:[0.05771577]\n",
      "参数的最佳取值：{'alpha': 10}\n",
      "最佳模型得分:0.057715767501825894\n"
     ]
    }
   ],
   "source": [
    "#进行特征扩展并PCA降维\n",
    "from sklearn.linear_model import Ridge\n",
    "cv_params = {'alpha': [9.5]}\n",
    "model= Ridge()\n",
    "Grid = GridSearchCV(estimator=model, param_grid=cv_params, scoring=My_Score, cv=5, verbose=3, n_jobs=4)\n",
    "Grid.fit(X_train, y_train)\n",
    "evalute_result = Grid.cv_results_[ 'mean_test_score' ]\n",
    "print('每轮迭代运行结果:{0}'.format(evalute_result))\n",
    "print('参数的最佳取值：{0}'.format(Grid.best_params_))\n",
    "print('最佳模型得分:{0}'.format(Grid.best_score_))"
   ]
  },
  {
   "cell_type": "code",
   "execution_count": 10,
   "metadata": {},
   "outputs": [
    {
     "name": "stdout",
     "output_type": "stream",
     "text": [
      "Fitting 5 folds for each of 1 candidates, totalling 5 fits\n"
     ]
    },
    {
     "name": "stderr",
     "output_type": "stream",
     "text": [
      "[Parallel(n_jobs=4)]: Using backend LokyBackend with 4 concurrent workers.\n",
      "[Parallel(n_jobs=4)]: Done   2 out of   5 | elapsed:    1.2s remaining:    1.9s\n",
      "[Parallel(n_jobs=4)]: Done   5 out of   5 | elapsed:    1.8s finished\n"
     ]
    },
    {
     "name": "stdout",
     "output_type": "stream",
     "text": [
      "每轮迭代运行结果:[0.06006264]\n",
      "参数的最佳取值：{'alpha': 1.05}\n",
      "最佳模型得分:0.06006264208772405\n"
     ]
    }
   ],
   "source": [
    "#进行特征扩展并PCA降维\n",
    "from sklearn.linear_model import Ridge\n",
    "cv_params = {'alpha': [1.05]}\n",
    "model= Ridge()\n",
    "Grid = GridSearchCV(estimator=model, param_grid=cv_params, scoring=My_Score, cv=5, verbose=3, n_jobs=4)\n",
    "Grid.fit(X_train, y_train)\n",
    "evalute_result = Grid.cv_results_[ 'mean_test_score' ]\n",
    "print('每轮迭代运行结果:{0}'.format(evalute_result))\n",
    "print('参数的最佳取值：{0}'.format(Grid.best_params_))\n",
    "print('最佳模型得分:{0}'.format(Grid.best_score_))"
   ]
  },
  {
   "cell_type": "code",
   "execution_count": 5,
   "metadata": {},
   "outputs": [
    {
     "name": "stdout",
     "output_type": "stream",
     "text": [
      "Fitting 5 folds for each of 1 candidates, totalling 5 fits\n"
     ]
    },
    {
     "name": "stderr",
     "output_type": "stream",
     "text": [
      "[Parallel(n_jobs=4)]: Using backend LokyBackend with 4 concurrent workers.\n",
      "[Parallel(n_jobs=4)]: Done   2 out of   5 | elapsed:  1.0min remaining:  1.5min\n",
      "[Parallel(n_jobs=4)]: Done   5 out of   5 | elapsed:  1.0min finished\n"
     ]
    },
    {
     "name": "stdout",
     "output_type": "stream",
     "text": [
      "每轮迭代运行结果:[0.06006264]\n",
      "参数的最佳取值：{'alpha': 1.05}\n",
      "最佳模型得分:0.06006264208772405\n"
     ]
    }
   ],
   "source": [
    "#进行特征扩展并PCA降维\n",
    "from sklearn.linear_model import Ridge\n",
    "cv_params = {'alpha': [1.05]}\n",
    "model= Ridge()\n",
    "Grid = GridSearchCV(estimator=model, param_grid=cv_params, scoring=My_Score, cv=5, verbose=3, n_jobs=4)\n",
    "Grid.fit(X_train, y_train)\n",
    "evalute_result = Grid.cv_results_[ 'mean_test_score' ]\n",
    "print('每轮迭代运行结果:{0}'.format(evalute_result))\n",
    "print('参数的最佳取值：{0}'.format(Grid.best_params_))\n",
    "print('最佳模型得分:{0}'.format(Grid.best_score_))"
   ]
  },
  {
   "cell_type": "code",
   "execution_count": null,
   "metadata": {},
   "outputs": [],
   "source": []
  },
  {
   "cell_type": "code",
   "execution_count": 47,
   "metadata": {},
   "outputs": [
    {
     "data": {
      "text/plain": [
       "Ridge(alpha=1.05, copy_X=True, fit_intercept=True, max_iter=None,\n",
       "   normalize=False, random_state=None, solver='auto', tol=0.001)"
      ]
     },
     "execution_count": 47,
     "metadata": {},
     "output_type": "execute_result"
    }
   ],
   "source": [
    "model= Ridge(alpha=1.05)\n",
    "model.fit(X_train, y_train)"
   ]
  },
  {
   "cell_type": "code",
   "execution_count": null,
   "metadata": {},
   "outputs": [],
   "source": [
    "y_pred=model.predict()"
   ]
  },
  {
   "cell_type": "markdown",
   "metadata": {},
   "source": [
    "#### 3.Lasso"
   ]
  },
  {
   "cell_type": "code",
   "execution_count": 38,
   "metadata": {},
   "outputs": [
    {
     "name": "stdout",
     "output_type": "stream",
     "text": [
      "Fitting 5 folds for each of 1 candidates, totalling 5 fits\n"
     ]
    },
    {
     "name": "stderr",
     "output_type": "stream",
     "text": [
      "[Parallel(n_jobs=4)]: Using backend LokyBackend with 4 concurrent workers.\n",
      "[Parallel(n_jobs=4)]: Done   2 out of   5 | elapsed:    5.5s remaining:    8.3s\n",
      "[Parallel(n_jobs=4)]: Done   5 out of   5 | elapsed:    8.5s finished\n"
     ]
    },
    {
     "name": "stdout",
     "output_type": "stream",
     "text": [
      "每轮迭代运行结果:[0.05785717]\n",
      "参数的最佳取值：{'alpha': 0.001}\n",
      "最佳模型得分:0.05785716799844289\n"
     ]
    }
   ],
   "source": [
    "#进行特征扩展并PCA降维\n",
    "from sklearn.linear_model import Lasso\n",
    "cv_params = {'alpha': [0.001]}\n",
    "model= Lasso()\n",
    "Grid = GridSearchCV(estimator=model, param_grid=cv_params, scoring=My_Score, cv=5, verbose=3, n_jobs=4)\n",
    "Grid.fit(X_train, y_train)\n",
    "evalute_result = Grid.cv_results_[ 'mean_test_score' ]\n",
    "print('每轮迭代运行结果:{0}'.format(evalute_result))\n",
    "print('参数的最佳取值：{0}'.format(Grid.best_params_))\n",
    "print('最佳模型得分:{0}'.format(Grid.best_score_))"
   ]
  },
  {
   "cell_type": "markdown",
   "metadata": {},
   "source": [
    "#### 4. Elastic Net"
   ]
  },
  {
   "cell_type": "code",
   "execution_count": 20,
   "metadata": {},
   "outputs": [
    {
     "name": "stdout",
     "output_type": "stream",
     "text": [
      "Fitting 5 folds for each of 1 candidates, totalling 5 fits\n"
     ]
    },
    {
     "name": "stderr",
     "output_type": "stream",
     "text": [
      "[Parallel(n_jobs=4)]: Using backend LokyBackend with 4 concurrent workers.\n",
      "[Parallel(n_jobs=4)]: Done   2 out of   5 | elapsed:   36.4s remaining:   54.7s\n",
      "[Parallel(n_jobs=4)]: Done   5 out of   5 | elapsed:   52.7s finished\n"
     ]
    },
    {
     "name": "stdout",
     "output_type": "stream",
     "text": [
      "每轮迭代运行结果:[0.06005937]\n",
      "参数的最佳取值：{'alpha': 0.0001, 'l1_ratio': 0.5}\n",
      "最佳模型得分:0.06005936874297684\n"
     ]
    },
    {
     "name": "stderr",
     "output_type": "stream",
     "text": [
      "D:\\Anaconda\\lib\\site-packages\\sklearn\\linear_model\\coordinate_descent.py:492: ConvergenceWarning: Objective did not converge. You might want to increase the number of iterations. Fitting data with very small alpha may cause precision problems.\n",
      "  ConvergenceWarning)\n"
     ]
    }
   ],
   "source": [
    "#进行特征扩展并PCA降维\n",
    "from sklearn.linear_model import ElasticNet\n",
    "cv_params = {'alpha': [0.0001],\n",
    "            'l1_ratio':[0.5]}\n",
    "model= ElasticNet()\n",
    "Grid = GridSearchCV(estimator=model, param_grid=cv_params, scoring=My_Score, cv=5, verbose=3, n_jobs=4)\n",
    "Grid.fit(X_train, y_train)\n",
    "evalute_result = Grid.cv_results_[ 'mean_test_score' ]\n",
    "print('每轮迭代运行结果:{0}'.format(evalute_result))\n",
    "print('参数的最佳取值：{0}'.format(Grid.best_params_))\n",
    "print('最佳模型得分:{0}'.format(Grid.best_score_))"
   ]
  },
  {
   "cell_type": "markdown",
   "metadata": {},
   "source": [
    "#### 5. Polynomial regression"
   ]
  },
  {
   "cell_type": "code",
   "execution_count": 20,
   "metadata": {},
   "outputs": [
    {
     "name": "stdout",
     "output_type": "stream",
     "text": [
      "Fitting 5 folds for each of 1 candidates, totalling 5 fits\n"
     ]
    },
    {
     "name": "stderr",
     "output_type": "stream",
     "text": [
      "[Parallel(n_jobs=4)]: Using backend LokyBackend with 4 concurrent workers.\n",
      "[Parallel(n_jobs=4)]: Done   2 out of   5 | elapsed:   48.9s remaining:  1.2min\n",
      "[Parallel(n_jobs=4)]: Done   5 out of   5 | elapsed:  1.2min finished\n"
     ]
    },
    {
     "name": "stdout",
     "output_type": "stream",
     "text": [
      "每轮迭代运行结果:[0.05464103]\n",
      "参数的最佳取值：{'alpha': 1e-06, 'l1_ratio': 0.7}\n",
      "最佳模型得分:0.05464102672619771\n"
     ]
    }
   ],
   "source": [
    "#进行特征扩展并PCA降维\n",
    "from sklearn.linear_model import ElasticNet\n",
    "from sklearn.preprocessing import PolynomialFeatures\n",
    "cv_params = {'alpha': [0.000001],\n",
    "            'l1_ratio':[0.7]}\n",
    "model= ElasticNet()\n",
    "Grid = GridSearchCV(estimator=model, param_grid=cv_params, scoring=My_Score, cv=5, verbose=3, n_jobs=4)\n",
    "Grid.fit(X_train, y_train)\n",
    "evalute_result = Grid.cv_results_[ 'mean_test_score' ]\n",
    "print('每轮迭代运行结果:{0}'.format(evalute_result))\n",
    "print('参数的最佳取值：{0}'.format(Grid.best_params_))\n",
    "print('最佳模型得分:{0}'.format(Grid.best_score_))"
   ]
  },
  {
   "cell_type": "markdown",
   "metadata": {},
   "source": [
    "## 测试集"
   ]
  },
  {
   "cell_type": "code",
   "execution_count": 12,
   "metadata": {},
   "outputs": [
    {
     "data": {
      "text/plain": [
       "ElasticNet(alpha=1e-06, copy_X=True, fit_intercept=True, l1_ratio=0.4,\n",
       "      max_iter=1000, normalize=False, positive=False, precompute=False,\n",
       "      random_state=None, selection='cyclic', tol=0.0001, warm_start=False)"
      ]
     },
     "execution_count": 12,
     "metadata": {},
     "output_type": "execute_result"
    }
   ],
   "source": [
    "#重新训练模型\n",
    "from sklearn.linear_model import ElasticNet\n",
    "model= ElasticNet(alpha=0.000001,l1_ratio=0.4)\n",
    "model.fit(X_train, y_train)"
   ]
  },
  {
   "cell_type": "code",
   "execution_count": 14,
   "metadata": {},
   "outputs": [],
   "source": [
    "#打开文件\n",
    "# path to where the data lies\n",
    "dpath = './input/'\n",
    "test = pd.read_csv(dpath +'test_data_org.csv',index_col='用户编码')\n",
    "X_test=test.drop(['data_type'], axis=1)\n",
    "X_test_index=X_test.index\n",
    "#进行特征扩展并PCA降维\n",
    "#X_test = pca.transform(quadratic.transform(X_test))\n",
    "#y预测，四舍五入，取整\n",
    "y_pred=model.predict(X_test)*42.44+618.05\n",
    "y_pred=np.around(y_pred).astype(int)\n",
    "#生成提交结果\n",
    "user_id=pd.DataFrame(X_test_index).rename(columns = {'用户编码':'id'})\n",
    "score = pd.DataFrame(y_pred,columns=['score'])\n",
    "out_df = pd.concat([user_id,score], axis = 1)\n",
    "out_df.to_csv(\"./output/ElasticNet.csv\", index=False)"
   ]
  },
  {
   "cell_type": "code",
   "execution_count": null,
   "metadata": {},
   "outputs": [],
   "source": []
  }
 ],
 "metadata": {
  "kernelspec": {
   "display_name": "Python 3",
   "language": "python",
   "name": "python3"
  },
  "language_info": {
   "codemirror_mode": {
    "name": "ipython",
    "version": 3
   },
   "file_extension": ".py",
   "mimetype": "text/x-python",
   "name": "python",
   "nbconvert_exporter": "python",
   "pygments_lexer": "ipython3",
   "version": "3.6.8"
  }
 },
 "nbformat": 4,
 "nbformat_minor": 2
}
