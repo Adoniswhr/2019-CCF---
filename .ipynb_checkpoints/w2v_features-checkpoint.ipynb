{
 "cells": [
  {
   "cell_type": "markdown",
   "metadata": {},
   "source": [
    "## 创造词向量特征"
   ]
  },
  {
   "cell_type": "code",
   "execution_count": 14,
   "metadata": {},
   "outputs": [],
   "source": [
    "#导入模块\n",
    "import os\n",
    "import pandas as pd\n",
    "\n",
    "from gensim.corpora import WikiCorpus\n",
    "from gensim.models import Word2Vec\n",
    "from gensim.models.word2vec import LineSentence\n",
    "import pandas as pd\n",
    "import multiprocessing\n",
    "import numpy as np"
   ]
  },
  {
   "cell_type": "code",
   "execution_count": 15,
   "metadata": {},
   "outputs": [],
   "source": [
    "#打开文件\n",
    "L = 10\n",
    "\n",
    "dpath ='./input/'\n",
    "save_path = dpath + 'w2v'\n",
    "if not os.path.exists(save_path):\n",
    "    print(save_path)\n",
    "    os.makedirs(save_path)\n",
    "\n",
    "train = pd.read_csv(dpath + 'train_dataset.csv')\n",
    "test = pd.read_csv(dpath + 'test_dataset.csv')"
   ]
  },
  {
   "cell_type": "code",
   "execution_count": 16,
   "metadata": {},
   "outputs": [
    {
     "name": "stdout",
     "output_type": "stream",
     "text": [
      "all_data size is : (100000, 29)\n"
     ]
    }
   ],
   "source": [
    "score=train['信用分']\n",
    "train=train.drop([\"信用分\"],axis=1)\n",
    "data=pd.concat((train,test),axis=0)\n",
    "print(\"all_data size is : {}\".format(data.shape))"
   ]
  },
  {
   "cell_type": "code",
   "execution_count": 8,
   "metadata": {},
   "outputs": [
    {
     "name": "stdout",
     "output_type": "stream",
     "text": [
      "training...\n",
      "outputing...\n"
     ]
    }
   ],
   "source": [
    "#提取数据，训练词向量\n",
    "sentence = []\n",
    "for line in list(data[['当月金融理财类应用使用总次数', '当月网购类应用使用次数', '当月视频播放类应用使用次数', '近三个月月均商场出现次数']].values):    \n",
    "    sentence.append([str(float(l)) for idx, l in enumerate(line)])\n",
    "print('training...')\n",
    "model = Word2Vec(sentence, size=L, window=2, min_count=1, workers=multiprocessing.cpu_count(),\n",
    "                 iter=10)\n",
    "print('outputing...')"
   ]
  },
  {
   "cell_type": "code",
   "execution_count": 9,
   "metadata": {},
   "outputs": [
    {
     "name": "stdout",
     "output_type": "stream",
     "text": [
      "7232\n"
     ]
    },
    {
     "name": "stderr",
     "output_type": "stream",
     "text": [
      "D:\\Anaconda\\lib\\site-packages\\ipykernel_launcher.py:11: DeprecationWarning: Call to deprecated `__getitem__` (Method will be removed in 4.0.0, use self.wv.__getitem__() instead).\n",
      "  # This is added back by InteractiveShellApp.init_path()\n"
     ]
    },
    {
     "name": "stdout",
     "output_type": "stream",
     "text": [
      "8382\n",
      "16067\n",
      "93\n"
     ]
    }
   ],
   "source": [
    "#输出每个特征的词向量特征并分别保存\n",
    "for fea in ['当月金融理财类应用使用总次数', '当月网购类应用使用次数', '当月视频播放类应用使用次数', '近三个月月均商场出现次数']:\n",
    "    values = []\n",
    "    for line in list(data[fea].values):\n",
    "        values.append(line)\n",
    "    values = set (values)\n",
    "    print(len(values))\n",
    "    w2v = []\n",
    "    for i in values:\n",
    "        a = [i]\n",
    "        a.extend (model[str(float(i))])\n",
    "        w2v.append(a)\n",
    "    out_df = pd.DataFrame(w2v)\n",
    "\n",
    "    name = [fea]\n",
    "    for i in range(L):\n",
    "        name.append(name[0] + 'W' + str(i))\n",
    "    out_df.columns = name\n",
    "    out_df.to_csv(save_path + '/' + fea + '.csv', index=False)"
   ]
  },
  {
   "cell_type": "code",
   "execution_count": 19,
   "metadata": {},
   "outputs": [
    {
     "name": "stdout",
     "output_type": "stream",
     "text": [
      "training...\n",
      "outputing...\n"
     ]
    }
   ],
   "source": [
    "#提取数据，训练词向量\n",
    "sentence = []\n",
    "for line in list(data[['用户年龄', '当月通话交往圈人数', '用户近6个月平均消费值（元）', '用户账单当月总费用（元）']].values):    \n",
    "    sentence.append([str(float(l)) for idx, l in enumerate(line)])\n",
    "print('training...')\n",
    "model = Word2Vec(sentence, size=L, window=2, min_count=1, workers=multiprocessing.cpu_count(),\n",
    "                 iter=10)\n",
    "print('outputing...')"
   ]
  },
  {
   "cell_type": "code",
   "execution_count": 20,
   "metadata": {},
   "outputs": [
    {
     "name": "stdout",
     "output_type": "stream",
     "text": [
      "88\n",
      "554\n",
      "22520\n"
     ]
    },
    {
     "name": "stderr",
     "output_type": "stream",
     "text": [
      "D:\\Anaconda\\lib\\site-packages\\ipykernel_launcher.py:11: DeprecationWarning: Call to deprecated `__getitem__` (Method will be removed in 4.0.0, use self.wv.__getitem__() instead).\n",
      "  # This is added back by InteractiveShellApp.init_path()\n"
     ]
    },
    {
     "name": "stdout",
     "output_type": "stream",
     "text": [
      "16597\n"
     ]
    }
   ],
   "source": [
    "#输出每个特征的词向量特征并分别保存\n",
    "for fea in ['用户年龄', '当月通话交往圈人数', '用户近6个月平均消费值（元）', '用户账单当月总费用（元）']:\n",
    "    values = []\n",
    "    for line in list(data[fea].values):\n",
    "        values.append(line)\n",
    "    values = set (values)\n",
    "    print(len(values))\n",
    "    w2v = []\n",
    "    for i in values:\n",
    "        a = [i]\n",
    "        a.extend (model[str(float(i))])\n",
    "        w2v.append(a)\n",
    "    out_df = pd.DataFrame(w2v)\n",
    "\n",
    "    name = [fea]\n",
    "    for i in range(L):\n",
    "        name.append(name[0] + 'W' + str(i))\n",
    "    out_df.columns = name\n",
    "    out_df.to_csv(save_path + '/' + fea + '.csv', index=False)"
   ]
  },
  {
   "cell_type": "code",
   "execution_count": null,
   "metadata": {},
   "outputs": [],
   "source": []
  }
 ],
 "metadata": {
  "kernelspec": {
   "display_name": "Python 3",
   "language": "python",
   "name": "python3"
  },
  "language_info": {
   "codemirror_mode": {
    "name": "ipython",
    "version": 3
   },
   "file_extension": ".py",
   "mimetype": "text/x-python",
   "name": "python",
   "nbconvert_exporter": "python",
   "pygments_lexer": "ipython3",
   "version": "3.6.8"
  }
 },
 "nbformat": 4,
 "nbformat_minor": 2
}
