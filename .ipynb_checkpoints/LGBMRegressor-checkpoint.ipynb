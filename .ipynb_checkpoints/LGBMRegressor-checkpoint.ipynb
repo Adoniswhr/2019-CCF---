{
 "cells": [
  {
   "cell_type": "markdown",
   "metadata": {},
   "source": [
    "## 读取数据"
   ]
  },
  {
   "cell_type": "code",
   "execution_count": 1,
   "metadata": {},
   "outputs": [],
   "source": [
    "# 首先 import 必要的模块\n",
    "import pandas as pd #数据分析\n",
    "import numpy as np #科学计算\n",
    "from pandas import Series,DataFrame\n",
    "import lightgbm as lgb\n",
    "from lightgbm.sklearn import LGBMRegressor\n",
    "from sklearn.model_selection import GridSearchCV\n",
    "#打开文件\n",
    "# path to where the data lies\n",
    "dpath = './input/'\n",
    "train = pd.read_csv(dpath +'train_data_org.csv',index_col='用户编码')\n",
    "y_train=train.pop('信用分')\n",
    "X_train=train.drop(['data_type'], axis=1)"
   ]
  },
  {
   "cell_type": "code",
   "execution_count": 2,
   "metadata": {},
   "outputs": [],
   "source": [
    "from sklearn.metrics import mean_absolute_error\n",
    "from sklearn.metrics import make_scorer\n",
    "def score(y_pred, y_true):\n",
    "    return 1/(mean_absolute_error(y_pred, y_true)+1)\n",
    "My_Score = make_scorer(score, greater_is_better=True)"
   ]
  },
  {
   "cell_type": "markdown",
   "metadata": {},
   "source": [
    "## LGBMRegressor"
   ]
  },
  {
   "cell_type": "code",
   "execution_count": 9,
   "metadata": {},
   "outputs": [
    {
     "name": "stdout",
     "output_type": "stream",
     "text": [
      "[50]\tcv_agg's l1: 24.9246 + 0.179307\n",
      "[100]\tcv_agg's l1: 20.5597 + 0.160017\n",
      "[150]\tcv_agg's l1: 18.0526 + 0.123382\n",
      "[200]\tcv_agg's l1: 16.6896 + 0.0869592\n",
      "[250]\tcv_agg's l1: 15.9888 + 0.0718441\n",
      "[300]\tcv_agg's l1: 15.5754 + 0.0674812\n",
      "[350]\tcv_agg's l1: 15.3342 + 0.0691814\n",
      "[400]\tcv_agg's l1: 15.1853 + 0.0728864\n",
      "[450]\tcv_agg's l1: 15.0884 + 0.0750173\n",
      "[500]\tcv_agg's l1: 15.019 + 0.0763612\n",
      "[550]\tcv_agg's l1: 14.9699 + 0.0800613\n",
      "[600]\tcv_agg's l1: 14.9325 + 0.0840635\n",
      "[650]\tcv_agg's l1: 14.9036 + 0.0875913\n",
      "[700]\tcv_agg's l1: 14.8823 + 0.089907\n",
      "[750]\tcv_agg's l1: 14.8659 + 0.0910113\n",
      "[800]\tcv_agg's l1: 14.8523 + 0.0924401\n",
      "[850]\tcv_agg's l1: 14.8417 + 0.0933905\n",
      "[900]\tcv_agg's l1: 14.8312 + 0.0947344\n",
      "[950]\tcv_agg's l1: 14.8213 + 0.0958608\n",
      "[1000]\tcv_agg's l1: 14.8124 + 0.09612\n",
      "[1050]\tcv_agg's l1: 14.8044 + 0.096869\n",
      "[1100]\tcv_agg's l1: 14.7985 + 0.0978304\n",
      "[1150]\tcv_agg's l1: 14.7918 + 0.0967604\n",
      "[1200]\tcv_agg's l1: 14.7865 + 0.0978336\n",
      "[1250]\tcv_agg's l1: 14.7817 + 0.09852\n",
      "[1300]\tcv_agg's l1: 14.7776 + 0.0986235\n",
      "[1350]\tcv_agg's l1: 14.774 + 0.0978265\n",
      "[1400]\tcv_agg's l1: 14.7703 + 0.0985835\n",
      "[1450]\tcv_agg's l1: 14.7671 + 0.0991122\n",
      "[1500]\tcv_agg's l1: 14.7631 + 0.09909\n",
      "[1550]\tcv_agg's l1: 14.7589 + 0.0992374\n",
      "[1600]\tcv_agg's l1: 14.7564 + 0.0992204\n",
      "[1650]\tcv_agg's l1: 14.7537 + 0.0997308\n",
      "[1700]\tcv_agg's l1: 14.7511 + 0.100195\n",
      "[1750]\tcv_agg's l1: 14.7489 + 0.100189\n",
      "[1800]\tcv_agg's l1: 14.747 + 0.100226\n",
      "[1850]\tcv_agg's l1: 14.7448 + 0.100197\n",
      "[1900]\tcv_agg's l1: 14.7439 + 0.100002\n",
      "[1950]\tcv_agg's l1: 14.742 + 0.0995623\n",
      "[2000]\tcv_agg's l1: 14.7394 + 0.099909\n",
      "[2050]\tcv_agg's l1: 14.7371 + 0.0998561\n",
      "[2100]\tcv_agg's l1: 14.7363 + 0.0998439\n",
      "[2150]\tcv_agg's l1: 14.7351 + 0.0996803\n",
      "[2200]\tcv_agg's l1: 14.7339 + 0.0996898\n",
      "[2250]\tcv_agg's l1: 14.7328 + 0.10004\n",
      "[2300]\tcv_agg's l1: 14.7316 + 0.09935\n",
      "[2350]\tcv_agg's l1: 14.7307 + 0.0993232\n",
      "[2400]\tcv_agg's l1: 14.7299 + 0.0994437\n",
      "[2450]\tcv_agg's l1: 14.7296 + 0.0993094\n",
      "[2500]\tcv_agg's l1: 14.7292 + 0.0996187\n",
      "[2550]\tcv_agg's l1: 14.7288 + 0.0992013\n",
      "[2600]\tcv_agg's l1: 14.7277 + 0.0989045\n",
      "[2650]\tcv_agg's l1: 14.7271 + 0.0992578\n",
      "[2700]\tcv_agg's l1: 14.7267 + 0.0988919\n",
      "[2750]\tcv_agg's l1: 14.7265 + 0.0992243\n",
      "[2800]\tcv_agg's l1: 14.7254 + 0.099058\n",
      "[2850]\tcv_agg's l1: 14.725 + 0.0996347\n",
      "[2900]\tcv_agg's l1: 14.7245 + 0.0999769\n",
      "[2950]\tcv_agg's l1: 14.724 + 0.0997904\n",
      "[3000]\tcv_agg's l1: 14.7236 + 0.0999896\n",
      "[3050]\tcv_agg's l1: 14.7235 + 0.099776\n",
      "[3100]\tcv_agg's l1: 14.7234 + 0.0993496\n",
      "[3150]\tcv_agg's l1: 14.7228 + 0.0991635\n",
      "[3200]\tcv_agg's l1: 14.7226 + 0.0988207\n",
      "[3250]\tcv_agg's l1: 14.7221 + 0.0987586\n",
      "[3300]\tcv_agg's l1: 14.7221 + 0.098712\n",
      "[3350]\tcv_agg's l1: 14.722 + 0.0988381\n",
      "[3400]\tcv_agg's l1: 14.7213 + 0.0995501\n",
      "[3450]\tcv_agg's l1: 14.7212 + 0.0996717\n",
      "[3500]\tcv_agg's l1: 14.7211 + 0.0998621\n",
      "[3550]\tcv_agg's l1: 14.7212 + 0.0998836\n",
      "[3600]\tcv_agg's l1: 14.7215 + 0.0997565\n",
      "best n_estimators: 3473\n",
      "best cv score: 14.721041225719068\n"
     ]
    }
   ],
   "source": [
    "params = {\n",
    "    'boosting_type': 'gbdt', \n",
    "    'objective': 'regression_l1', \n",
    "     'metric': 'mae',\n",
    "    'learning_rate': 0.01, \n",
    "    'num_leaves': 50, \n",
    "    'max_depth': 5,\n",
    "    'feature_fraction': 0.6,\n",
    "    'bagging_fraction': 0.8,\n",
    "    'subsample': 0.8, \n",
    "    'lambda_l1': 0,\n",
    "    'lambda_l2': 5, \n",
    "    'nthread': 4\n",
    "    }\n",
    "data_train = lgb.Dataset(X_train, y_train, silent=True)\n",
    "cv_results = lgb.cv(\n",
    "    params, data_train, num_boost_round=10000, nfold=5, stratified=False, shuffle=True, metrics='mae',\n",
    "    early_stopping_rounds=150, verbose_eval=50, show_stdv=True, seed=0)\n",
    "\n",
    "print('best n_estimators:', len(cv_results['l1-mean']))\n",
    "print('best cv score:', cv_results['l1-mean'][-1])"
   ]
  },
  {
   "cell_type": "code",
   "execution_count": 3,
   "metadata": {},
   "outputs": [
    {
     "name": "stdout",
     "output_type": "stream",
     "text": [
      "Fitting 5 folds for each of 15 candidates, totalling 75 fits\n",
      "[CV] max_depth=5, num_leaves=29 ......................................\n",
      "[CV]  max_depth=5, num_leaves=29, score=0.0632001004067519, total=  19.7s\n",
      "[CV] max_depth=5, num_leaves=29 ......................................\n"
     ]
    },
    {
     "name": "stderr",
     "output_type": "stream",
     "text": [
      "[Parallel(n_jobs=1)]: Done   1 out of   1 | elapsed:   31.1s remaining:    0.0s\n"
     ]
    },
    {
     "name": "stdout",
     "output_type": "stream",
     "text": [
      "[CV]  max_depth=5, num_leaves=29, score=0.06373354266002944, total=  18.2s\n",
      "[CV] max_depth=5, num_leaves=29 ......................................\n"
     ]
    },
    {
     "name": "stderr",
     "output_type": "stream",
     "text": [
      "[Parallel(n_jobs=1)]: Done   2 out of   2 | elapsed:   59.6s remaining:    0.0s\n"
     ]
    },
    {
     "name": "stdout",
     "output_type": "stream",
     "text": [
      "[CV]  max_depth=5, num_leaves=29, score=0.06460252514612524, total=  20.0s\n",
      "[CV] max_depth=5, num_leaves=29 ......................................\n",
      "[CV]  max_depth=5, num_leaves=29, score=0.06388753664510967, total=  19.1s\n",
      "[CV] max_depth=5, num_leaves=29 ......................................\n",
      "[CV]  max_depth=5, num_leaves=29, score=0.06376824692433682, total=  27.6s\n",
      "[CV] max_depth=5, num_leaves=30 ......................................\n",
      "[CV]  max_depth=5, num_leaves=30, score=0.06318112592451017, total=  20.4s\n",
      "[CV] max_depth=5, num_leaves=30 ......................................\n",
      "[CV]  max_depth=5, num_leaves=30, score=0.06376732640689661, total=  24.5s\n",
      "[CV] max_depth=5, num_leaves=30 ......................................\n",
      "[CV]  max_depth=5, num_leaves=30, score=0.06465520760256274, total=  25.4s\n",
      "[CV] max_depth=5, num_leaves=30 ......................................\n",
      "[CV]  max_depth=5, num_leaves=30, score=0.06392800000085805, total=  23.9s\n",
      "[CV] max_depth=5, num_leaves=30 ......................................\n",
      "[CV]  max_depth=5, num_leaves=30, score=0.06369814435810403, total=  20.1s\n",
      "[CV] max_depth=5, num_leaves=32 ......................................\n",
      "[CV]  max_depth=5, num_leaves=32, score=0.06316150476164387, total=  21.3s\n",
      "[CV] max_depth=5, num_leaves=32 ......................................\n",
      "[CV]  max_depth=5, num_leaves=32, score=0.06371673671988863, total=  23.1s\n",
      "[CV] max_depth=5, num_leaves=32 ......................................\n",
      "[CV]  max_depth=5, num_leaves=32, score=0.0646052714944138, total=  20.6s\n",
      "[CV] max_depth=5, num_leaves=32 ......................................\n",
      "[CV]  max_depth=5, num_leaves=32, score=0.06393206213797945, total=  20.6s\n",
      "[CV] max_depth=5, num_leaves=32 ......................................\n",
      "[CV]  max_depth=5, num_leaves=32, score=0.06372125039504034, total=  20.0s\n",
      "[CV] max_depth=5, num_leaves=40 ......................................\n",
      "[CV]  max_depth=5, num_leaves=40, score=0.06316150476164387, total=  21.0s\n",
      "[CV] max_depth=5, num_leaves=40 ......................................\n",
      "[CV]  max_depth=5, num_leaves=40, score=0.06371673671988863, total=  20.8s\n",
      "[CV] max_depth=5, num_leaves=40 ......................................\n",
      "[CV]  max_depth=5, num_leaves=40, score=0.0646052714944138, total=  23.4s\n",
      "[CV] max_depth=5, num_leaves=40 ......................................\n",
      "[CV]  max_depth=5, num_leaves=40, score=0.06393206213797945, total=  21.3s\n",
      "[CV] max_depth=5, num_leaves=40 ......................................\n",
      "[CV]  max_depth=5, num_leaves=40, score=0.06372125039504034, total=  21.4s\n",
      "[CV] max_depth=5, num_leaves=50 ......................................\n",
      "[CV]  max_depth=5, num_leaves=50, score=0.06316150476164387, total=  20.4s\n",
      "[CV] max_depth=5, num_leaves=50 ......................................\n",
      "[CV]  max_depth=5, num_leaves=50, score=0.06371673671988863, total=  23.8s\n",
      "[CV] max_depth=5, num_leaves=50 ......................................\n",
      "[CV]  max_depth=5, num_leaves=50, score=0.0646052714944138, total=  25.4s\n",
      "[CV] max_depth=5, num_leaves=50 ......................................\n",
      "[CV]  max_depth=5, num_leaves=50, score=0.06393206213797945, total=  22.5s\n",
      "[CV] max_depth=5, num_leaves=50 ......................................\n",
      "[CV]  max_depth=5, num_leaves=50, score=0.06372125039504034, total=  20.3s\n",
      "[CV] max_depth=6, num_leaves=29 ......................................\n",
      "[CV]  max_depth=6, num_leaves=29, score=0.06316180222193975, total=  23.7s\n",
      "[CV] max_depth=6, num_leaves=29 ......................................\n",
      "[CV]  max_depth=6, num_leaves=29, score=0.06371006586964063, total=  22.8s\n",
      "[CV] max_depth=6, num_leaves=29 ......................................\n",
      "[CV]  max_depth=6, num_leaves=29, score=0.06464191587172921, total=  22.6s\n",
      "[CV] max_depth=6, num_leaves=29 ......................................\n",
      "[CV]  max_depth=6, num_leaves=29, score=0.06390483057972508, total=  22.6s\n",
      "[CV] max_depth=6, num_leaves=29 ......................................\n",
      "[CV]  max_depth=6, num_leaves=29, score=0.06369143308712985, total=  22.5s\n",
      "[CV] max_depth=6, num_leaves=30 ......................................\n",
      "[CV]  max_depth=6, num_leaves=30, score=0.06321416136804876, total=  23.5s\n",
      "[CV] max_depth=6, num_leaves=30 ......................................\n",
      "[CV]  max_depth=6, num_leaves=30, score=0.06376961922426595, total=  22.6s\n",
      "[CV] max_depth=6, num_leaves=30 ......................................\n",
      "[CV]  max_depth=6, num_leaves=30, score=0.06460474945174376, total=  25.0s\n",
      "[CV] max_depth=6, num_leaves=30 ......................................\n",
      "[CV]  max_depth=6, num_leaves=30, score=0.06395611440819168, total=  23.5s\n",
      "[CV] max_depth=6, num_leaves=30 ......................................\n",
      "[CV]  max_depth=6, num_leaves=30, score=0.06371438750974004, total=  22.8s\n",
      "[CV] max_depth=6, num_leaves=32 ......................................\n",
      "[CV]  max_depth=6, num_leaves=32, score=0.06321143707137128, total=  23.5s\n",
      "[CV] max_depth=6, num_leaves=32 ......................................\n",
      "[CV]  max_depth=6, num_leaves=32, score=0.06380732268155491, total=  25.4s\n",
      "[CV] max_depth=6, num_leaves=32 ......................................\n",
      "[CV]  max_depth=6, num_leaves=32, score=0.0646137932724131, total=  23.7s\n",
      "[CV] max_depth=6, num_leaves=32 ......................................\n",
      "[CV]  max_depth=6, num_leaves=32, score=0.06390501137960468, total=  23.6s\n",
      "[CV] max_depth=6, num_leaves=32 ......................................\n",
      "[CV]  max_depth=6, num_leaves=32, score=0.06371276598016933, total=  23.4s\n",
      "[CV] max_depth=6, num_leaves=40 ......................................\n",
      "[CV]  max_depth=6, num_leaves=40, score=0.06325973395473265, total=  25.5s\n",
      "[CV] max_depth=6, num_leaves=40 ......................................\n",
      "[CV]  max_depth=6, num_leaves=40, score=0.06374597919895388, total=  25.8s\n",
      "[CV] max_depth=6, num_leaves=40 ......................................\n",
      "[CV]  max_depth=6, num_leaves=40, score=0.06459439467895321, total=  25.1s\n",
      "[CV] max_depth=6, num_leaves=40 ......................................\n",
      "[CV]  max_depth=6, num_leaves=40, score=0.06395650519838592, total=  25.0s\n",
      "[CV] max_depth=6, num_leaves=40 ......................................\n",
      "[CV]  max_depth=6, num_leaves=40, score=0.0636882845188835, total=  24.9s\n",
      "[CV] max_depth=6, num_leaves=50 ......................................\n",
      "[CV]  max_depth=6, num_leaves=50, score=0.06320848680082981, total=  25.3s\n",
      "[CV] max_depth=6, num_leaves=50 ......................................\n",
      "[CV]  max_depth=6, num_leaves=50, score=0.06368844955759663, total=  25.5s\n",
      "[CV] max_depth=6, num_leaves=50 ......................................\n",
      "[CV]  max_depth=6, num_leaves=50, score=0.06462415294245151, total=  25.7s\n",
      "[CV] max_depth=6, num_leaves=50 ......................................\n",
      "[CV]  max_depth=6, num_leaves=50, score=0.06395783816426938, total=  25.6s\n",
      "[CV] max_depth=6, num_leaves=50 ......................................\n",
      "[CV]  max_depth=6, num_leaves=50, score=0.06372656800877727, total=  25.8s\n",
      "[CV] max_depth=7, num_leaves=29 ......................................\n",
      "[CV]  max_depth=7, num_leaves=29, score=0.06319738272175765, total=  23.0s\n",
      "[CV] max_depth=7, num_leaves=29 ......................................\n",
      "[CV]  max_depth=7, num_leaves=29, score=0.06374268407451465, total=  23.2s\n",
      "[CV] max_depth=7, num_leaves=29 ......................................\n",
      "[CV]  max_depth=7, num_leaves=29, score=0.06459919693281164, total=  23.0s\n",
      "[CV] max_depth=7, num_leaves=29 ......................................\n",
      "[CV]  max_depth=7, num_leaves=29, score=0.06387799653843788, total=  23.1s\n",
      "[CV] max_depth=7, num_leaves=29 ......................................\n",
      "[CV]  max_depth=7, num_leaves=29, score=0.06373480646054111, total=  23.6s\n",
      "[CV] max_depth=7, num_leaves=30 ......................................\n",
      "[CV]  max_depth=7, num_leaves=30, score=0.0632011801895515, total=  23.2s\n",
      "[CV] max_depth=7, num_leaves=30 ......................................\n",
      "[CV]  max_depth=7, num_leaves=30, score=0.06377530551618617, total=  23.9s\n",
      "[CV] max_depth=7, num_leaves=30 ......................................\n",
      "[CV]  max_depth=7, num_leaves=30, score=0.06465294784316117, total=  24.2s\n",
      "[CV] max_depth=7, num_leaves=30 ......................................\n",
      "[CV]  max_depth=7, num_leaves=30, score=0.0639497339063502, total=  23.6s\n",
      "[CV] max_depth=7, num_leaves=30 ......................................\n"
     ]
    },
    {
     "name": "stdout",
     "output_type": "stream",
     "text": [
      "[CV]  max_depth=7, num_leaves=30, score=0.06365532529653868, total=  23.3s\n",
      "[CV] max_depth=7, num_leaves=32 ......................................\n",
      "[CV]  max_depth=7, num_leaves=32, score=0.06321708802537515, total=  24.2s\n",
      "[CV] max_depth=7, num_leaves=32 ......................................\n",
      "[CV]  max_depth=7, num_leaves=32, score=0.06377778412250826, total=  24.4s\n",
      "[CV] max_depth=7, num_leaves=32 ......................................\n",
      "[CV]  max_depth=7, num_leaves=32, score=0.06466243792567436, total=  24.4s\n",
      "[CV] max_depth=7, num_leaves=32 ......................................\n",
      "[CV]  max_depth=7, num_leaves=32, score=0.06390128316902355, total=  23.9s\n",
      "[CV] max_depth=7, num_leaves=32 ......................................\n",
      "[CV]  max_depth=7, num_leaves=32, score=0.06370134675594291, total=  24.3s\n",
      "[CV] max_depth=7, num_leaves=40 ......................................\n",
      "[CV]  max_depth=7, num_leaves=40, score=0.06313771624549451, total=  27.1s\n",
      "[CV] max_depth=7, num_leaves=40 ......................................\n",
      "[CV]  max_depth=7, num_leaves=40, score=0.06376630729765394, total=  27.2s\n",
      "[CV] max_depth=7, num_leaves=40 ......................................\n",
      "[CV]  max_depth=7, num_leaves=40, score=0.06462914808367874, total=  27.2s\n",
      "[CV] max_depth=7, num_leaves=40 ......................................\n",
      "[CV]  max_depth=7, num_leaves=40, score=0.06392359990317682, total=  27.1s\n",
      "[CV] max_depth=7, num_leaves=40 ......................................\n",
      "[CV]  max_depth=7, num_leaves=40, score=0.06369328364602612, total=  27.0s\n",
      "[CV] max_depth=7, num_leaves=50 ......................................\n",
      "[CV]  max_depth=7, num_leaves=50, score=0.06320644651781834, total=  29.3s\n",
      "[CV] max_depth=7, num_leaves=50 ......................................\n",
      "[CV]  max_depth=7, num_leaves=50, score=0.06377016806237776, total=  30.0s\n",
      "[CV] max_depth=7, num_leaves=50 ......................................\n",
      "[CV]  max_depth=7, num_leaves=50, score=0.0646161000708674, total=  33.8s\n",
      "[CV] max_depth=7, num_leaves=50 ......................................\n",
      "[CV]  max_depth=7, num_leaves=50, score=0.06392714032772931, total=  29.6s\n",
      "[CV] max_depth=7, num_leaves=50 ......................................\n",
      "[CV]  max_depth=7, num_leaves=50, score=0.06367801647549771, total=  28.5s\n"
     ]
    },
    {
     "name": "stderr",
     "output_type": "stream",
     "text": [
      "[Parallel(n_jobs=1)]: Done  75 out of  75 | elapsed: 46.6min finished\n"
     ]
    },
    {
     "name": "stdout",
     "output_type": "stream",
     "text": [
      "每轮迭代运行结果:[0.06383839 0.06384596 0.06382737 0.06382737 0.06382737 0.06382201\n",
      " 0.06385181 0.06385007 0.06384898 0.0638411  0.06383041 0.0638469\n",
      " 0.06385199 0.06383001 0.06383957]\n",
      "参数的最佳取值：{'max_depth': 7, 'num_leaves': 32}\n",
      "最佳模型得分:0.06385198799970485\n"
     ]
    }
   ],
   "source": [
    "from sklearn.model_selection import GridSearchCV\n",
    "### 我们可以创建lgb的sklearn模型，使用上面选择的(学习率，评估器数目)\n",
    "params_test1={\n",
    "    'max_depth': [5,6,7],\n",
    "    'num_leaves':[29,30,32,40,50]\n",
    "}\n",
    "model_lgb=lgb.LGBMRegressor(objective='regression_l1',num_leaves=50,bagging_fraction=0.6,reg_alpha=0.002, reg_lambda=0.0023,\n",
    "                              learning_rate=0.01, n_estimators=3800, max_depth=6,feature_fraction=0.5,\n",
    "                              metric='mae', bagging_freq = 5,  min_child_samples=17,min_child_weight=0.00001)\n",
    "gsearch1 = GridSearchCV(estimator=model_lgb, param_grid=params_test1, scoring=My_Score, cv=5, verbose=3)\n",
    "gsearch1.fit(X_train, y_train)\n",
    "evalute_result = gsearch1.cv_results_[ 'mean_test_score' ]\n",
    "print('每轮迭代运行结果:{0}'.format(evalute_result))\n",
    "print('参数的最佳取值：{0}'.format(gsearch1.best_params_))\n",
    "print('最佳模型得分:{0}'.format(gsearch1.best_score_))"
   ]
  },
  {
   "cell_type": "code",
   "execution_count": 22,
   "metadata": {},
   "outputs": [
    {
     "name": "stdout",
     "output_type": "stream",
     "text": [
      "Fitting 5 folds for each of 1 candidates, totalling 5 fits\n"
     ]
    },
    {
     "name": "stderr",
     "output_type": "stream",
     "text": [
      "[Parallel(n_jobs=4)]: Using backend LokyBackend with 4 concurrent workers.\n",
      "[Parallel(n_jobs=4)]: Done   2 out of   5 | elapsed:  2.4min remaining:  3.6min\n",
      "[Parallel(n_jobs=4)]: Done   5 out of   5 | elapsed:  3.5min finished\n"
     ]
    },
    {
     "name": "stdout",
     "output_type": "stream",
     "text": [
      "每轮迭代运行结果:[0.0636486]\n",
      "参数的最佳取值：{'min_child_samples': 17, 'min_child_weight': 1e-05}\n",
      "最佳模型得分:0.06364860086894629\n"
     ]
    }
   ],
   "source": [
    "params_test3={\n",
    "    'min_child_samples': [17],\n",
    "    'min_child_weight':[0.00001]\n",
    "}\n",
    "model_lgb=lgb.LGBMRegressor(objective='regression_l1',num_leaves=30,bagging_fraction=1,reg_alpha=0.001, reg_lambda=0.001,\n",
    "                              learning_rate=0.01, n_estimators=4000, max_depth=6,feature_fraction=0.8,\n",
    "                              metric='mae', bagging_freq = 5,  min_child_samples=20,min_child_weight=0.00001)\n",
    "gsearch3 = GridSearchCV(estimator=model_lgb, param_grid=params_test3, scoring=My_Score, cv=5, verbose=3, n_jobs=4)\n",
    "gsearch3.fit(X_train, y_train)\n",
    "evalute_result = gsearch3.cv_results_[ 'mean_test_score' ]\n",
    "print('每轮迭代运行结果:{0}'.format(evalute_result))\n",
    "print('参数的最佳取值：{0}'.format(gsearch3.best_params_))\n",
    "print('最佳模型得分:{0}'.format(gsearch3.best_score_))"
   ]
  },
  {
   "cell_type": "code",
   "execution_count": 29,
   "metadata": {},
   "outputs": [
    {
     "name": "stdout",
     "output_type": "stream",
     "text": [
      "Fitting 5 folds for each of 1 candidates, totalling 5 fits\n"
     ]
    },
    {
     "name": "stderr",
     "output_type": "stream",
     "text": [
      "[Parallel(n_jobs=4)]: Using backend LokyBackend with 4 concurrent workers.\n",
      "[Parallel(n_jobs=4)]: Done   5 out of   5 | elapsed:  4.2min finished\n"
     ]
    },
    {
     "name": "stdout",
     "output_type": "stream",
     "text": [
      "每轮迭代运行结果:[0.06380054]\n",
      "参数的最佳取值：{'bagging_fraction': 0.8, 'feature_fraction': 0.6}\n",
      "最佳模型得分:0.06380054082011782\n"
     ]
    }
   ],
   "source": [
    "cv_params={\n",
    "    'feature_fraction': [0.6],\n",
    "    'bagging_fraction': [0.8]\n",
    "}\n",
    "model_lgb = lgb.LGBMRegressor(objective='regression_l1',num_leaves=30,bagging_fraction=0.6,reg_alpha=0.001, reg_lambda=0.001,\n",
    "                              learning_rate=0.01, n_estimators=4000, max_depth=5,feature_fraction=0.5,\n",
    "                              metric='mae', bagging_freq = 5,  min_child_samples=17,min_child_weight=0.00001)\n",
    "Grid = GridSearchCV(estimator=model_lgb, param_grid=cv_params, scoring=My_Score, cv=5, verbose=1, n_jobs=4)\n",
    "Grid.fit(X_train, y_train)\n",
    "evalute_result = Grid.cv_results_[ 'mean_test_score' ]\n",
    "print('每轮迭代运行结果:{0}'.format(evalute_result))\n",
    "print('参数的最佳取值：{0}'.format(Grid.best_params_))\n",
    "print('最佳模型得分:{0}'.format(Grid.best_score_))"
   ]
  },
  {
   "cell_type": "code",
   "execution_count": 26,
   "metadata": {},
   "outputs": [
    {
     "name": "stdout",
     "output_type": "stream",
     "text": [
      "Fitting 5 folds for each of 1 candidates, totalling 5 fits\n"
     ]
    },
    {
     "name": "stderr",
     "output_type": "stream",
     "text": [
      "[Parallel(n_jobs=4)]: Using backend LokyBackend with 4 concurrent workers.\n",
      "[Parallel(n_jobs=4)]: Done   5 out of   5 | elapsed:  3.6min finished\n"
     ]
    },
    {
     "name": "stdout",
     "output_type": "stream",
     "text": [
      "每轮迭代运行结果:[0.06382523]\n",
      "参数的最佳取值：{'bagging_fraction': 0.6, 'feature_fraction': 0.5}\n",
      "最佳模型得分:0.06382523121818497\n"
     ]
    }
   ],
   "source": [
    "cv_params={\n",
    "    'feature_fraction': [0.5],\n",
    "    'bagging_fraction': [0.6]\n",
    "}\n",
    "model_lgb = lgb.LGBMRegressor(objective='regression_l1',num_leaves=30,bagging_fraction=0.6,reg_alpha=0.001, reg_lambda=0.001,\n",
    "                              learning_rate=0.01, n_estimators=4000, max_depth=5,feature_fraction=0.5,\n",
    "                              metric='mae', bagging_freq = 5,  min_child_samples=17,min_child_weight=0.00001)\n",
    "Grid = GridSearchCV(estimator=model_lgb, param_grid=cv_params, scoring=My_Score, cv=5, verbose=1, n_jobs=4)\n",
    "Grid.fit(X_train, y_train)\n",
    "evalute_result = Grid.cv_results_[ 'mean_test_score' ]\n",
    "print('每轮迭代运行结果:{0}'.format(evalute_result))\n",
    "print('参数的最佳取值：{0}'.format(Grid.best_params_))\n",
    "print('最佳模型得分:{0}'.format(Grid.best_score_))"
   ]
  },
  {
   "cell_type": "code",
   "execution_count": 8,
   "metadata": {},
   "outputs": [
    {
     "name": "stdout",
     "output_type": "stream",
     "text": [
      "Fitting 5 folds for each of 9 candidates, totalling 45 fits\n"
     ]
    },
    {
     "name": "stderr",
     "output_type": "stream",
     "text": [
      "[Parallel(n_jobs=4)]: Using backend LokyBackend with 4 concurrent workers.\n",
      "[Parallel(n_jobs=4)]: Done  45 out of  45 | elapsed: 30.1min finished\n"
     ]
    },
    {
     "name": "stdout",
     "output_type": "stream",
     "text": [
      "每轮迭代运行结果:[0.06381896 0.06382503 0.06380691 0.06380721 0.06382926 0.06378818\n",
      " 0.06381483 0.06379999 0.06382521]\n",
      "参数的最佳取值：{'bagging_fraction': 0.6, 'feature_fraction': 0.5}\n",
      "最佳模型得分:0.06382925777757613\n"
     ]
    }
   ],
   "source": [
    "cv_params={\n",
    "    'feature_fraction': [0.4,0.5,  0.6],\n",
    "    'bagging_fraction': [0.5,0.6,  0.7]\n",
    "}\n",
    "model_lgb = lgb.LGBMRegressor(objective='regression_l1',num_leaves=30,bagging_fraction=1,reg_alpha=0.001, reg_lambda=0.001,\n",
    "                              learning_rate=0.01, n_estimators=4000, max_depth=5,feature_fraction=0.8,\n",
    "                              metric='mae', bagging_freq = 5,  min_child_samples=17,min_child_weight=0.00001)\n",
    "Grid = GridSearchCV(estimator=model_lgb, param_grid=cv_params, scoring=My_Score, cv=5, verbose=1, n_jobs=4)\n",
    "Grid.fit(X_train, y_train)\n",
    "evalute_result = Grid.cv_results_[ 'mean_test_score' ]\n",
    "print('每轮迭代运行结果:{0}'.format(evalute_result))\n",
    "print('参数的最佳取值：{0}'.format(Grid.best_params_))\n",
    "print('最佳模型得分:{0}'.format(Grid.best_score_))"
   ]
  },
  {
   "cell_type": "code",
   "execution_count": null,
   "metadata": {},
   "outputs": [
    {
     "name": "stdout",
     "output_type": "stream",
     "text": [
      "Fitting 5 folds for each of 1 candidates, totalling 5 fits\n"
     ]
    },
    {
     "name": "stderr",
     "output_type": "stream",
     "text": [
      "[Parallel(n_jobs=4)]: Using backend LokyBackend with 4 concurrent workers.\n"
     ]
    }
   ],
   "source": [
    "cv_params={\n",
    "    'reg_alpha': [0.001],\n",
    "    'reg_lambda': [0.0007]\n",
    "}\n",
    "model_lgb = lgb.LGBMRegressor(objective='regression_l1',num_leaves=35,bagging_fraction=0.6,reg_alpha=0.001, reg_lambda=0.001,\n",
    "                              learning_rate=0.01, n_estimators=4000, max_depth=5,feature_fraction=0.5,\n",
    "                              metric='mae', bagging_freq = 5,  min_child_samples=17,min_child_weight=0.00001)\n",
    "Grid = GridSearchCV(estimator=model_lgb, param_grid=cv_params, scoring=My_Score, cv=5, verbose=1, n_jobs=4)\n",
    "Grid.fit(X_train, y_train)\n",
    "evalute_result = Grid.cv_results_[ 'mean_test_score' ]\n",
    "print('每轮迭代运行结果:{0}'.format(evalute_result))\n",
    "print('参数的最佳取值：{0}'.format(Grid.best_params_))\n",
    "print('最佳模型得分:{0}'.format(Grid.best_score_))"
   ]
  },
  {
   "cell_type": "code",
   "execution_count": 9,
   "metadata": {},
   "outputs": [
    {
     "name": "stdout",
     "output_type": "stream",
     "text": [
      "Fitting 5 folds for each of 3 candidates, totalling 15 fits\n"
     ]
    },
    {
     "name": "stderr",
     "output_type": "stream",
     "text": [
      "[Parallel(n_jobs=4)]: Using backend LokyBackend with 4 concurrent workers.\n",
      "[Parallel(n_jobs=4)]: Done  15 out of  15 | elapsed:   17.1s finished\n"
     ]
    },
    {
     "name": "stdout",
     "output_type": "stream",
     "text": [
      "每轮迭代运行结果:[0.06321324 0.06329426 0.06271503]\n",
      "参数的最佳取值：{'learning_rate': 0.1}\n",
      "最佳模型得分:0.06329426174166188\n"
     ]
    }
   ],
   "source": [
    "cv_params={\n",
    "    'learning_rate': [0.001, 0.1,0.2]\n",
    "}\n",
    "model_lgb = lgb.LGBMRegressor(objective='regression_l1',num_leaves=35,bagging_fraction=0.6,reg_alpha=0.002, reg_lambda=0.002,\n",
    "                              learning_rate=0.01, n_estimators=4000, max_depth=5,feature_fraction=0.5,\n",
    "                              metric='mae', bagging_freq = 5,  min_child_samples=17,min_child_weight=0.00001)\n",
    "Grid = GridSearchCV(estimator=model_lgb, param_grid=cv_params, scoring=My_Score, cv=5, verbose=1, n_jobs=4)\n",
    "Grid.fit(X_train, y_train)\n",
    "evalute_result = Grid.cv_results_[ 'mean_test_score' ]\n",
    "print('每轮迭代运行结果:{0}'.format(evalute_result))\n",
    "print('参数的最佳取值：{0}'.format(Grid.best_params_))\n",
    "print('最佳模型得分:{0}'.format(Grid.best_score_))"
   ]
  },
  {
   "cell_type": "markdown",
   "metadata": {},
   "source": [
    "## 测试集"
   ]
  },
  {
   "cell_type": "code",
   "execution_count": 4,
   "metadata": {},
   "outputs": [
    {
     "data": {
      "text/plain": [
       "LGBMRegressor(bagging_fraction=0.6, bagging_freq=5, boosting_type='gbdt',\n",
       "       class_weight=None, colsample_bytree=1.0, feature_fraction=0.5,\n",
       "       importance_type='split', learning_rate=0.01, max_depth=7,\n",
       "       metric='mae', min_child_samples=17, min_child_weight=1e-05,\n",
       "       min_split_gain=0.0, n_estimators=3800, n_jobs=-1, num_leaves=32,\n",
       "       objective='regression_l1', random_state=None, reg_alpha=0.002,\n",
       "       reg_lambda=0.0023, silent=True, subsample=1.0,\n",
       "       subsample_for_bin=200000, subsample_freq=0)"
      ]
     },
     "execution_count": 4,
     "metadata": {},
     "output_type": "execute_result"
    }
   ],
   "source": [
    "from lightgbm.sklearn import LGBMRegressor\n",
    "model1 = lgb.LGBMRegressor(objective='regression_l1',num_leaves=30,bagging_fraction=0.6,reg_alpha=0.002, reg_lambda=0.0023,\n",
    "                              learning_rate=0.01, n_estimators=3800, max_depth=6,feature_fraction=0.5,\n",
    "                              metric='mae', bagging_freq = 5,  min_child_samples=17,min_child_weight=0.00001)\n",
    "model1.fit(X_train, y_train)"
   ]
  },
  {
   "cell_type": "code",
   "execution_count": 5,
   "metadata": {},
   "outputs": [
    {
     "data": {
      "text/plain": [
       "LGBMRegressor(bagging_fraction=0.6, bagging_freq=5, boosting_type='gbdt',\n",
       "       class_weight=None, colsample_bytree=1.0, feature_fraction=0.5,\n",
       "       importance_type='split', learning_rate=0.01, max_depth=7,\n",
       "       metric='mae', min_child_samples=17, min_child_weight=1e-05,\n",
       "       min_split_gain=0.0, n_estimators=3800, n_jobs=-1, num_leaves=32,\n",
       "       objective='regression_l2', random_state=None, reg_alpha=0.002,\n",
       "       reg_lambda=0.0023, silent=True, subsample=1.0,\n",
       "       subsample_for_bin=200000, subsample_freq=0)"
      ]
     },
     "execution_count": 5,
     "metadata": {},
     "output_type": "execute_result"
    }
   ],
   "source": [
    "from lightgbm.sklearn import LGBMRegressor\n",
    "model2 = lgb.LGBMRegressor(objective='regression_l2',num_leaves=30,bagging_fraction=0.6,reg_alpha=0.001, reg_lambda=0.001,\n",
    "                              learning_rate=0.01, n_estimators=4000, max_depth=6,feature_fraction=0.5,\n",
    "                              metric='mae', bagging_freq = 5,  min_child_samples=17,min_child_weight=0.00001)\n",
    "model2.fit(X_train, y_train)"
   ]
  },
  {
   "cell_type": "code",
   "execution_count": 6,
   "metadata": {},
   "outputs": [],
   "source": [
    "#打开文件\n",
    "# path to where the data lies\n",
    "dpath = './input/'\n",
    "test = pd.read_csv(dpath +'test_data_org.csv',index_col='用户编码')\n",
    "X_test=test.drop(['data_type'], axis=1)\n",
    "X_test_index=X_test.index\n",
    "#y预测，四舍五入，取整\n",
    "y_pred=np.around((model1.predict(X_test)+model2.predict(X_test))/2).astype(int)\n",
    "#生成提交结果\n",
    "user_id=pd.DataFrame(X_test_index).rename(columns = {'用户编码':'id'})\n",
    "score = pd.DataFrame(y_pred,columns=['score'])\n",
    "out_df = pd.concat([user_id,score], axis = 1)\n",
    "out_df.to_csv(\"./output/LGBM.csv\", index=False)"
   ]
  },
  {
   "cell_type": "code",
   "execution_count": null,
   "metadata": {},
   "outputs": [],
   "source": []
  }
 ],
 "metadata": {
  "kernelspec": {
   "display_name": "Python 3",
   "language": "python",
   "name": "python3"
  },
  "language_info": {
   "codemirror_mode": {
    "name": "ipython",
    "version": 3
   },
   "file_extension": ".py",
   "mimetype": "text/x-python",
   "name": "python",
   "nbconvert_exporter": "python",
   "pygments_lexer": "ipython3",
   "version": "3.7.0"
  }
 },
 "nbformat": 4,
 "nbformat_minor": 2
}
