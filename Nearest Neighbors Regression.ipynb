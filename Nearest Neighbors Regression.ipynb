{
 "cells": [
  {
   "cell_type": "markdown",
   "metadata": {},
   "source": [
    "## 读取数据"
   ]
  },
  {
   "cell_type": "code",
   "execution_count": 9,
   "metadata": {},
   "outputs": [],
   "source": [
    "# 首先 import 必要的模块\n",
    "import pandas as pd #数据分析\n",
    "import numpy as np #科学计算\n",
    "from pandas import Series,DataFrame\n",
    "import seaborn as sns\n",
    "import matplotlib.pyplot as plt\n",
    "from sklearn.model_selection import GridSearchCV\n",
    "#打开文件\n",
    "# path to where the data lies\n",
    "dpath = './input/'\n",
    "train = pd.read_csv(dpath +'train_data_org.csv',index_col='用户编码')\n",
    "y_train=train.pop('信用分')\n",
    "X_train=train.drop(['data_type'], axis=1)"
   ]
  },
  {
   "cell_type": "code",
   "execution_count": null,
   "metadata": {},
   "outputs": [],
   "source": [
    "#进行特征扩展并PCA降维\n",
    "from sklearn.preprocessing import PolynomialFeatures\n",
    "from sklearn.decomposition import PCA\n",
    "quadratic = PolynomialFeatures(degree=2)\n",
    "X_quad = quadratic.fit_transform(X_train)\n",
    "pca = PCA(n_components=200)\n",
    "X_train = pca.fit(X_quad).transform(X_quad)"
   ]
  },
  {
   "cell_type": "code",
   "execution_count": 10,
   "metadata": {},
   "outputs": [],
   "source": [
    "from sklearn.metrics import mean_absolute_error\n",
    "from sklearn.metrics import make_scorer\n",
    "def score(y_pred, y_true):\n",
    "    return 1/(mean_absolute_error(y_pred, y_true)+1)\n",
    "My_Score = make_scorer(score, greater_is_better=True)"
   ]
  },
  {
   "cell_type": "markdown",
   "metadata": {},
   "source": [
    "## KNeighborsRegressor"
   ]
  },
  {
   "cell_type": "code",
   "execution_count": 8,
   "metadata": {},
   "outputs": [
    {
     "name": "stdout",
     "output_type": "stream",
     "text": [
      "Fitting 5 folds for each of 1 candidates, totalling 5 fits\n"
     ]
    },
    {
     "name": "stderr",
     "output_type": "stream",
     "text": [
      "[Parallel(n_jobs=4)]: Using backend LokyBackend with 4 concurrent workers.\n",
      "[Parallel(n_jobs=4)]: Done   2 out of   5 | elapsed:  9.5min remaining: 14.3min\n",
      "[Parallel(n_jobs=4)]: Done   5 out of   5 | elapsed: 14.7min finished\n"
     ]
    },
    {
     "name": "stdout",
     "output_type": "stream",
     "text": [
      "每轮迭代运行结果:[0.04484547]\n",
      "参数的最佳取值：{'algorithm': 'auto'}\n",
      "最佳模型得分:0.04484547335955454\n"
     ]
    }
   ],
   "source": [
    "from sklearn.neighbors import KNeighborsRegressor\n",
    "cv_params = {'algorithm': ['auto']}\n",
    "model= KNeighborsRegressor(n_neighbors=8,weights='distance')\n",
    "Grid = GridSearchCV(estimator=model, param_grid=cv_params, scoring=My_Score, cv=5, verbose=3, n_jobs=4)\n",
    "Grid.fit(X_train, y_train)\n",
    "evalute_result = Grid.cv_results_[ 'mean_test_score' ]\n",
    "print('每轮迭代运行结果:{0}'.format(evalute_result))\n",
    "print('参数的最佳取值：{0}'.format(Grid.best_params_))\n",
    "print('最佳模型得分:{0}'.format(Grid.best_score_))"
   ]
  },
  {
   "cell_type": "markdown",
   "metadata": {},
   "source": [
    "## RadiusNeighborsRegressor"
   ]
  },
  {
   "cell_type": "code",
   "execution_count": 10,
   "metadata": {},
   "outputs": [
    {
     "name": "stdout",
     "output_type": "stream",
     "text": [
      "Fitting 5 folds for each of 1 candidates, totalling 5 fits\n"
     ]
    },
    {
     "name": "stderr",
     "output_type": "stream",
     "text": [
      "[Parallel(n_jobs=4)]: Using backend LokyBackend with 4 concurrent workers.\n",
      "[Parallel(n_jobs=4)]: Done   2 out of   5 | elapsed:  5.6min remaining:  8.5min\n",
      "[Parallel(n_jobs=4)]: Done   5 out of   5 | elapsed:  7.9min finished\n"
     ]
    },
    {
     "name": "stdout",
     "output_type": "stream",
     "text": [
      "每轮迭代运行结果:[0.04407828]\n",
      "参数的最佳取值：{'algorithm': 'auto'}\n",
      "最佳模型得分:0.044078281848861686\n"
     ]
    }
   ],
   "source": [
    "from sklearn.neighbors import RadiusNeighborsRegressor\n",
    "cv_params = {'algorithm' : ['auto']}\n",
    "model= KNeighborsRegressor(radius=2.0,weights='distance')\n",
    "Grid = GridSearchCV(estimator=model, param_grid=cv_params, scoring=My_Score, cv=5, verbose=3, n_jobs=4)\n",
    "Grid.fit(X_train, y_train)\n",
    "evalute_result = Grid.cv_results_[ 'mean_test_score' ]\n",
    "print('每轮迭代运行结果:{0}'.format(evalute_result))\n",
    "print('参数的最佳取值：{0}'.format(Grid.best_params_))\n",
    "print('最佳模型得分:{0}'.format(Grid.best_score_))"
   ]
  },
  {
   "cell_type": "markdown",
   "metadata": {},
   "source": [
    "## 测试集"
   ]
  },
  {
   "cell_type": "code",
   "execution_count": 48,
   "metadata": {},
   "outputs": [],
   "source": [
    "#打开文件\n",
    "# path to where the data lies\n",
    "dpath = './input/'\n",
    "test = pd.read_csv(dpath +'test_data_org.csv',index_col='用户编码')\n",
    "X_test=test.drop(['data_type'], axis=1)\n",
    "y_pred = regressor.predict(X_test)\n",
    "#四舍五入，取整\n",
    "for i in range(50000):\n",
    "    y_pred[i]=round(y_pred[i])"
   ]
  },
  {
   "cell_type": "code",
   "execution_count": 115,
   "metadata": {},
   "outputs": [],
   "source": [
    "#生成提交结果\n",
    "user_id=pd.DataFrame(X_test.index).rename(columns = {'用户编码':'id'})\n",
    "score = pd.DataFrame(y_pred,columns=['score'])\n",
    "out_df = pd.concat([user_id,score], axis = 1)\n",
    "out_df.to_csv(\"LR_org.csv\", index=False)"
   ]
  },
  {
   "cell_type": "code",
   "execution_count": 14,
   "metadata": {},
   "outputs": [
    {
     "ename": "SyntaxError",
     "evalue": "can't assign to literal (<ipython-input-14-821603039ce6>, line 1)",
     "output_type": "error",
     "traceback": [
      "\u001b[1;36m  File \u001b[1;32m\"<ipython-input-14-821603039ce6>\"\u001b[1;36m, line \u001b[1;32m1\u001b[0m\n\u001b[1;33m    aa=3,bb=4,cc=5\u001b[0m\n\u001b[1;37m      ^\u001b[0m\n\u001b[1;31mSyntaxError\u001b[0m\u001b[1;31m:\u001b[0m can't assign to literal\n"
     ]
    }
   ],
   "source": [
    "aa=3,bb=4,cc=5\n",
    "f.append(dict(aa))\n"
   ]
  },
  {
   "cell_type": "code",
   "execution_count": 16,
   "metadata": {},
   "outputs": [],
   "source": [
    "aa=3"
   ]
  },
  {
   "cell_type": "code",
   "execution_count": 18,
   "metadata": {},
   "outputs": [],
   "source": [
    "c=dict(x=aa)"
   ]
  },
  {
   "cell_type": "code",
   "execution_count": 19,
   "metadata": {},
   "outputs": [
    {
     "data": {
      "text/plain": [
       "{'x': 3}"
      ]
     },
     "execution_count": 19,
     "metadata": {},
     "output_type": "execute_result"
    }
   ],
   "source": [
    "c"
   ]
  },
  {
   "cell_type": "code",
   "execution_count": null,
   "metadata": {},
   "outputs": [],
   "source": []
  }
 ],
 "metadata": {
  "kernelspec": {
   "display_name": "Python 3",
   "language": "python",
   "name": "python3"
  },
  "language_info": {
   "codemirror_mode": {
    "name": "ipython",
    "version": 3
   },
   "file_extension": ".py",
   "mimetype": "text/x-python",
   "name": "python",
   "nbconvert_exporter": "python",
   "pygments_lexer": "ipython3",
   "version": "3.6.8"
  }
 },
 "nbformat": 4,
 "nbformat_minor": 2
}
