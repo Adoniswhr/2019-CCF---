{
 "cells": [
  {
   "cell_type": "markdown",
   "metadata": {},
   "source": [
    "## 读取数据"
   ]
  },
  {
   "cell_type": "code",
   "execution_count": 6,
   "metadata": {},
   "outputs": [],
   "source": [
    "# 首先 import 必要的模块\n",
    "import pandas as pd #数据分析\n",
    "import numpy as np #科学计算\n",
    "from pandas import Series,DataFrame\n",
    "import lightgbm as lgb\n",
    "from lightgbm.sklearn import LGBMRegressor\n",
    "from sklearn.model_selection import GridSearchCV\n",
    "#打开文件\n",
    "# path to where the data lies\n",
    "dpath = './input/'\n",
    "train = pd.read_csv(dpath +'train_data_org1.csv',index_col='用户编码')\n",
    "y_train=train.pop('信用分')\n",
    "X_train=train.drop(['data_type'], axis=1)"
   ]
  },
  {
   "cell_type": "code",
   "execution_count": 7,
   "metadata": {},
   "outputs": [],
   "source": [
    "from sklearn.metrics import mean_absolute_error\n",
    "from sklearn.metrics import make_scorer\n",
    "def score(y_pred, y_true):\n",
    "    return 1/(mean_absolute_error(y_pred, y_true)+1)\n",
    "My_Score = make_scorer(score, greater_is_better=True)"
   ]
  },
  {
   "cell_type": "markdown",
   "metadata": {},
   "source": [
    "## LGBMRegressor"
   ]
  },
  {
   "cell_type": "code",
   "execution_count": 8,
   "metadata": {},
   "outputs": [
    {
     "name": "stdout",
     "output_type": "stream",
     "text": [
      "[50]\tcv_agg's l1: 24.9438 + 0.173121\n",
      "[100]\tcv_agg's l1: 20.0876 + 0.13607\n",
      "[150]\tcv_agg's l1: 17.5674 + 0.0970465\n",
      "[200]\tcv_agg's l1: 16.3182 + 0.0783871\n",
      "[250]\tcv_agg's l1: 15.6578 + 0.0764052\n",
      "[300]\tcv_agg's l1: 15.343 + 0.0810653\n",
      "[350]\tcv_agg's l1: 15.1594 + 0.0853833\n",
      "[400]\tcv_agg's l1: 15.0556 + 0.0887548\n",
      "[450]\tcv_agg's l1: 14.9876 + 0.0928272\n",
      "[500]\tcv_agg's l1: 14.9456 + 0.0955622\n",
      "[550]\tcv_agg's l1: 14.918 + 0.0960883\n",
      "[600]\tcv_agg's l1: 14.8981 + 0.0964241\n",
      "[650]\tcv_agg's l1: 14.8836 + 0.0978782\n",
      "[700]\tcv_agg's l1: 14.8708 + 0.0997128\n",
      "[750]\tcv_agg's l1: 14.8618 + 0.100701\n",
      "[800]\tcv_agg's l1: 14.8544 + 0.101576\n",
      "[850]\tcv_agg's l1: 14.8486 + 0.102076\n",
      "[900]\tcv_agg's l1: 14.8456 + 0.10267\n",
      "[950]\tcv_agg's l1: 14.8426 + 0.102379\n",
      "[1000]\tcv_agg's l1: 14.841 + 0.102254\n",
      "[1050]\tcv_agg's l1: 14.8386 + 0.101944\n",
      "[1100]\tcv_agg's l1: 14.8371 + 0.101482\n",
      "[1150]\tcv_agg's l1: 14.836 + 0.10151\n",
      "[1200]\tcv_agg's l1: 14.8355 + 0.101084\n",
      "[1250]\tcv_agg's l1: 14.8339 + 0.102296\n",
      "[1300]\tcv_agg's l1: 14.833 + 0.102137\n",
      "[1350]\tcv_agg's l1: 14.8328 + 0.102687\n",
      "[1400]\tcv_agg's l1: 14.8322 + 0.102882\n",
      "[1450]\tcv_agg's l1: 14.8315 + 0.102524\n",
      "[1500]\tcv_agg's l1: 14.8313 + 0.102508\n",
      "[1550]\tcv_agg's l1: 14.8309 + 0.101986\n",
      "[1600]\tcv_agg's l1: 14.8314 + 0.102778\n",
      "[1650]\tcv_agg's l1: 14.8305 + 0.102361\n",
      "[1700]\tcv_agg's l1: 14.8297 + 0.10161\n",
      "[1750]\tcv_agg's l1: 14.8298 + 0.100788\n",
      "[1800]\tcv_agg's l1: 14.8287 + 0.100647\n",
      "[1850]\tcv_agg's l1: 14.829 + 0.0999556\n",
      "[1900]\tcv_agg's l1: 14.8296 + 0.0997835\n",
      "[1950]\tcv_agg's l1: 14.8295 + 0.0993348\n",
      "best n_estimators: 1802\n",
      "best cv score: 14.828712478847857\n"
     ]
    }
   ],
   "source": [
    "params = {\n",
    "    'boosting_type': 'gbdt', \n",
    "    'objective': 'regression_l2', \n",
    "     'metric': 'mae',\n",
    "    'learning_rate': 0.01, \n",
    "    'num_leaves': 50, \n",
    "    'max_depth': 7,\n",
    "    'feature_fraction': 0.6,\n",
    "    'bagging_fraction': 0.8,\n",
    "    'subsample': 0.8, \n",
    "    'lambda_l1': 0,\n",
    "    'lambda_l2': 5, \n",
    "    'nthread': 4\n",
    "    }\n",
    "data_train = lgb.Dataset(X_train, y_train, silent=True)\n",
    "cv_results = lgb.cv(\n",
    "    params, data_train, num_boost_round=10000, nfold=5, stratified=False, shuffle=True, metrics='mae',\n",
    "    early_stopping_rounds=150, verbose_eval=50, show_stdv=True, seed=0)\n",
    "\n",
    "print('best n_estimators:', len(cv_results['l1-mean']))\n",
    "print('best cv score:', cv_results['l1-mean'][-1])"
   ]
  },
  {
   "cell_type": "code",
   "execution_count": 36,
   "metadata": {},
   "outputs": [
    {
     "name": "stdout",
     "output_type": "stream",
     "text": [
      "Fitting 5 folds for each of 2 candidates, totalling 10 fits\n"
     ]
    },
    {
     "name": "stderr",
     "output_type": "stream",
     "text": [
      "[Parallel(n_jobs=4)]: Using backend LokyBackend with 4 concurrent workers.\n",
      "[Parallel(n_jobs=4)]: Done   7 out of  10 | elapsed:  4.7min remaining:  2.0min\n",
      "[Parallel(n_jobs=4)]: Done  10 out of  10 | elapsed:  5.8min finished\n"
     ]
    },
    {
     "name": "stdout",
     "output_type": "stream",
     "text": [
      "每轮迭代运行结果:[0.0635995 0.0635995]\n",
      "参数的最佳取值：{'max_depth': 5, 'num_leaves': 35}\n",
      "最佳模型得分:0.06359950418743296\n"
     ]
    }
   ],
   "source": [
    "from sklearn.model_selection import GridSearchCV\n",
    "### 我们可以创建lgb的sklearn模型，使用上面选择的(学习率，评估器数目)\n",
    "params_test1={\n",
    "    'max_depth': [5],\n",
    "    'num_leaves':[35,40]\n",
    "}\n",
    "model_lgb=lgb.LGBMRegressor(objective='regression_l1',num_leaves=50,bagging_fraction=1,reg_alpha=0.001, reg_lambda=0.001,\n",
    "                              learning_rate=0.01, n_estimators=3068, max_depth=6,feature_fraction=0.8,\n",
    "                              metric='mae', bagging_freq = 5,  min_child_samples=20,min_child_weight=0.00001)\n",
    "gsearch1 = GridSearchCV(estimator=model_lgb, param_grid=params_test1, scoring=My_Score, cv=5, verbose=3, n_jobs=4)\n",
    "gsearch1.fit(X_train, y_train)\n",
    "evalute_result = gsearch1.cv_results_[ 'mean_test_score' ]\n",
    "print('每轮迭代运行结果:{0}'.format(evalute_result))\n",
    "print('参数的最佳取值：{0}'.format(gsearch1.best_params_))\n",
    "print('最佳模型得分:{0}'.format(gsearch1.best_score_))"
   ]
  },
  {
   "cell_type": "code",
   "execution_count": 5,
   "metadata": {},
   "outputs": [
    {
     "name": "stdout",
     "output_type": "stream",
     "text": [
      "Fitting 5 folds for each of 2 candidates, totalling 10 fits\n"
     ]
    },
    {
     "name": "stderr",
     "output_type": "stream",
     "text": [
      "[Parallel(n_jobs=4)]: Using backend LokyBackend with 4 concurrent workers.\n",
      "[Parallel(n_jobs=4)]: Done  10 out of  10 | elapsed:  6.8min finished\n"
     ]
    },
    {
     "name": "stdout",
     "output_type": "stream",
     "text": [
      "每轮迭代运行结果:[0.06360584 0.06362892]\n",
      "参数的最佳取值：{'min_child_samples': 17, 'min_child_weight': 1e-05}\n",
      "最佳模型得分:0.06362891574734529\n"
     ]
    }
   ],
   "source": [
    "params_test3={\n",
    "    'min_child_samples': [16,17],\n",
    "    'min_child_weight':[0.00001]\n",
    "}\n",
    "model_lgb=lgb.LGBMRegressor(objective='regression_l1',num_leaves=50,bagging_fraction=1,reg_alpha=0.001, reg_lambda=0.001,\n",
    "                              learning_rate=0.01, n_estimators=3068, max_depth=6,feature_fraction=0.8,\n",
    "                              metric='mae', bagging_freq = 5,  min_child_samples=20,min_child_weight=0.00001)\n",
    "gsearch3 = GridSearchCV(estimator=model_lgb, param_grid=params_test3, scoring=My_Score, cv=5, verbose=1, n_jobs=4)\n",
    "gsearch3.fit(X_train, y_train)\n",
    "evalute_result = gsearch3.cv_results_[ 'mean_test_score' ]\n",
    "print('每轮迭代运行结果:{0}'.format(evalute_result))\n",
    "print('参数的最佳取值：{0}'.format(gsearch3.best_params_))\n",
    "print('最佳模型得分:{0}'.format(gsearch3.best_score_))"
   ]
  },
  {
   "cell_type": "code",
   "execution_count": 8,
   "metadata": {},
   "outputs": [
    {
     "name": "stdout",
     "output_type": "stream",
     "text": [
      "Fitting 5 folds for each of 9 candidates, totalling 45 fits\n"
     ]
    },
    {
     "name": "stderr",
     "output_type": "stream",
     "text": [
      "[Parallel(n_jobs=4)]: Using backend LokyBackend with 4 concurrent workers.\n",
      "[Parallel(n_jobs=4)]: Done  45 out of  45 | elapsed: 30.1min finished\n"
     ]
    },
    {
     "name": "stdout",
     "output_type": "stream",
     "text": [
      "每轮迭代运行结果:[0.06381896 0.06382503 0.06380691 0.06380721 0.06382926 0.06378818\n",
      " 0.06381483 0.06379999 0.06382521]\n",
      "参数的最佳取值：{'bagging_fraction': 0.6, 'feature_fraction': 0.5}\n",
      "最佳模型得分:0.06382925777757613\n"
     ]
    }
   ],
   "source": [
    "cv_params={\n",
    "    'feature_fraction': [0.4,0.5,  0.6],\n",
    "    'bagging_fraction': [0.5,0.6,  0.7]\n",
    "}\n",
    "model_lgb = lgb.LGBMRegressor(objective='regression_l1',num_leaves=50,bagging_fraction=1,reg_alpha=0.001, reg_lambda=0.001,\n",
    "                              learning_rate=0.01, n_estimators=3068, max_depth=6,feature_fraction=0.8,\n",
    "                              metric='mae', bagging_freq = 5,  min_child_samples=17,min_child_weight=0.00001)\n",
    "Grid = GridSearchCV(estimator=model_lgb, param_grid=cv_params, scoring=My_Score, cv=5, verbose=1, n_jobs=4)\n",
    "Grid.fit(X_train, y_train)\n",
    "evalute_result = Grid.cv_results_[ 'mean_test_score' ]\n",
    "print('每轮迭代运行结果:{0}'.format(evalute_result))\n",
    "print('参数的最佳取值：{0}'.format(Grid.best_params_))\n",
    "print('最佳模型得分:{0}'.format(Grid.best_score_))"
   ]
  },
  {
   "cell_type": "code",
   "execution_count": null,
   "metadata": {},
   "outputs": [
    {
     "name": "stdout",
     "output_type": "stream",
     "text": [
      "Fitting 5 folds for each of 9 candidates, totalling 45 fits\n"
     ]
    },
    {
     "name": "stderr",
     "output_type": "stream",
     "text": [
      "[Parallel(n_jobs=4)]: Using backend LokyBackend with 4 concurrent workers.\n"
     ]
    }
   ],
   "source": [
    "cv_params={\n",
    "    'reg_alpha': [0.0005,0.001,0.002],\n",
    "    'reg_lambda': [0.0005,0.001,0.002]\n",
    "}\n",
    "model_lgb = lgb.LGBMRegressor(objective='regression_l1',num_leaves=50,bagging_fraction=0.6,reg_alpha=0.001, reg_lambda=0.001,\n",
    "                              learning_rate=0.01, n_estimators=3068, max_depth=6,feature_fraction=0.5,\n",
    "                              metric='mae', bagging_freq = 5,  min_child_samples=17,min_child_weight=0.00001)\n",
    "Grid = GridSearchCV(estimator=model_lgb, param_grid=cv_params, scoring=My_Score, cv=5, verbose=1, n_jobs=4)\n",
    "Grid.fit(X_train, y_train)\n",
    "evalute_result = Grid.cv_results_[ 'mean_test_score' ]\n",
    "print('每轮迭代运行结果:{0}'.format(evalute_result))\n",
    "print('参数的最佳取值：{0}'.format(Grid.best_params_))\n",
    "print('最佳模型得分:{0}'.format(Grid.best_score_))"
   ]
  },
  {
   "cell_type": "code",
   "execution_count": 9,
   "metadata": {},
   "outputs": [
    {
     "name": "stdout",
     "output_type": "stream",
     "text": [
      "Fitting 5 folds for each of 3 candidates, totalling 15 fits\n"
     ]
    },
    {
     "name": "stderr",
     "output_type": "stream",
     "text": [
      "[Parallel(n_jobs=4)]: Using backend LokyBackend with 4 concurrent workers.\n",
      "[Parallel(n_jobs=4)]: Done  15 out of  15 | elapsed:   17.1s finished\n"
     ]
    },
    {
     "name": "stdout",
     "output_type": "stream",
     "text": [
      "每轮迭代运行结果:[0.06321324 0.06329426 0.06271503]\n",
      "参数的最佳取值：{'learning_rate': 0.1}\n",
      "最佳模型得分:0.06329426174166188\n"
     ]
    }
   ],
   "source": [
    "cv_params={\n",
    "    'learning_rate': [0.001, 0.1,0.2]\n",
    "}\n",
    "model_lgb = lgb.LGBMRegressor(objective='regression_l1',num_leaves=50,bagging_fraction=0.6,reg_alpha=0.001, reg_lambda=0.001,\n",
    "                              learning_rate=0.01, n_estimators=3068, max_depth=6,feature_fraction=0.5,\n",
    "                              metric='mae', bagging_freq = 5,  min_child_samples=17,min_child_weight=0.00001)\n",
    "Grid = GridSearchCV(estimator=model_lgb, param_grid=cv_params, scoring=My_Score, cv=5, verbose=1, n_jobs=4)\n",
    "Grid.fit(X_train, y_train)\n",
    "evalute_result = Grid.cv_results_[ 'mean_test_score' ]\n",
    "print('每轮迭代运行结果:{0}'.format(evalute_result))\n",
    "print('参数的最佳取值：{0}'.format(Grid.best_params_))\n",
    "print('最佳模型得分:{0}'.format(Grid.best_score_))"
   ]
  },
  {
   "cell_type": "markdown",
   "metadata": {},
   "source": [
    "## 测试集"
   ]
  },
  {
   "cell_type": "code",
   "execution_count": 3,
   "metadata": {},
   "outputs": [
    {
     "data": {
      "text/plain": [
       "LGBMRegressor(bagging_fraction=0.6, bagging_freq=5, boosting_type='gbdt',\n",
       "       class_weight=None, colsample_bytree=1.0, feature_fraction=0.5,\n",
       "       importance_type='split', learning_rate=0.01, max_depth=6,\n",
       "       metric='mae', min_child_samples=17, min_child_weight=1e-05,\n",
       "       min_split_gain=0.0, n_estimators=3068, n_jobs=-1, num_leaves=50,\n",
       "       objective='regression_l1', random_state=None, reg_alpha=0.001,\n",
       "       reg_lambda=0.001, silent=True, subsample=1.0,\n",
       "       subsample_for_bin=200000, subsample_freq=0)"
      ]
     },
     "execution_count": 3,
     "metadata": {},
     "output_type": "execute_result"
    }
   ],
   "source": [
    "from lightgbm.sklearn import LGBMRegressor\n",
    "model = lgb.LGBMRegressor(objective='regression_l1',num_leaves=50,bagging_fraction=0.6,reg_alpha=0.001, reg_lambda=0.001,\n",
    "                              learning_rate=0.01, n_estimators=3068, max_depth=6,feature_fraction=0.5,\n",
    "                              metric='mae', bagging_freq = 5,  min_child_samples=17,min_child_weight=0.00001)\n",
    "model.fit(X_train, y_train)"
   ]
  },
  {
   "cell_type": "code",
   "execution_count": 4,
   "metadata": {},
   "outputs": [],
   "source": [
    "#打开文件\n",
    "# path to where the data lies\n",
    "dpath = './input/'\n",
    "test = pd.read_csv(dpath +'test_data_org.csv',index_col='用户编码')\n",
    "X_test=test.drop(['data_type'], axis=1)\n",
    "X_test_index=X_test.index\n",
    "#y预测，四舍五入，取整\n",
    "y_pred=np.around(model.predict(X_test)).astype(int)\n",
    "#生成提交结果\n",
    "user_id=pd.DataFrame(X_test_index).rename(columns = {'用户编码':'id'})\n",
    "score = pd.DataFrame(y_pred,columns=['score'])\n",
    "out_df = pd.concat([user_id,score], axis = 1)\n",
    "out_df.to_csv(\"./output/LGBM.csv\", index=False)"
   ]
  },
  {
   "cell_type": "code",
   "execution_count": null,
   "metadata": {},
   "outputs": [],
   "source": []
  }
 ],
 "metadata": {
  "kernelspec": {
   "display_name": "Python 3",
   "language": "python",
   "name": "python3"
  },
  "language_info": {
   "codemirror_mode": {
    "name": "ipython",
    "version": 3
   },
   "file_extension": ".py",
   "mimetype": "text/x-python",
   "name": "python",
   "nbconvert_exporter": "python",
   "pygments_lexer": "ipython3",
   "version": "3.6.8"
  }
 },
 "nbformat": 4,
 "nbformat_minor": 2
}
